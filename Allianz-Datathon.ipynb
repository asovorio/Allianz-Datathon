{
  "cells": [
    {
      "cell_type": "markdown",
      "id": "a10ff80b",
      "metadata": {
        "id": "a10ff80b"
      },
      "source": [
        "# 1. Entrada"
      ]
    },
    {
      "cell_type": "code",
      "execution_count": 133,
      "id": "2462cbd0",
      "metadata": {
        "id": "2462cbd0"
      },
      "outputs": [],
      "source": [
        "import pandas as pd\n",
        "import numpy as np\n",
        "import matplotlib.pyplot as plt\n",
        "import seaborn as sns\n",
        "from datetime import date\n",
        "import plotly.express as px\n",
        "\n",
        "import warnings \n",
        "warnings.filterwarnings('ignore')\n",
        "\n",
        "from sklearn.impute import SimpleImputer\n",
        "from sklearn.model_selection import train_test_split\n",
        "from sklearn.ensemble import RandomForestClassifier\n",
        "from sklearn.linear_model import LogisticRegression\n",
        "from lightgbm import LGBMClassifier\n",
        "from sklearn.metrics import accuracy_score\n",
        "\n",
        "from sklearn.model_selection import GridSearchCV\n",
        "\n",
        "from xgboost import XGBClassifier\n",
        "from sklearn.metrics import accuracy_score, precision_score, recall_score, f1_score\n",
        "from sklearn.metrics import confusion_matrix, classification_report, plot_confusion_matrix"
      ]
    },
    {
      "cell_type": "markdown",
      "id": "75cc19e9",
      "metadata": {
        "id": "75cc19e9"
      },
      "source": [
        "# 2. Imports"
      ]
    },
    {
      "cell_type": "markdown",
      "id": "244a55f9",
      "metadata": {
        "id": "244a55f9"
      },
      "source": [
        "Import all neccessary tools and visualize data"
      ]
    },
    {
      "cell_type": "code",
      "execution_count": 84,
      "id": "00b95a06",
      "metadata": {
        "id": "00b95a06"
      },
      "outputs": [],
      "source": [
        "address = pd.read_csv('/content/address.csv')\n",
        "main = pd.read_csv('/content/main.csv')\n",
        "paid_record = pd.read_csv('/content/paid_record.csv')"
      ]
    },
    {
      "cell_type": "code",
      "execution_count": 85,
      "id": "7168e30f",
      "metadata": {
        "colab": {
          "base_uri": "https://localhost:8080/",
          "height": 423
        },
        "id": "7168e30f",
        "outputId": "f57721f2-4eb5-4d89-ceb6-d92259e5c096"
      },
      "outputs": [
        {
          "output_type": "execute_result",
          "data": {
            "text/plain": [
              "          New_ID                                 ADDRESS\n",
              "0       5008804L             06042, CT, 31 Mitchell Road\n",
              "1       5008805G    72703, AR, 1189 Northwest End Avenue\n",
              "2       5008806D            72701, AR, 218 Shipley Alley\n",
              "3       5008808I      3138 P Street Northwest, 20007, DC\n",
              "4       5008809Z            2405 230th Street, 21122, MD\n",
              "...          ...                                     ...\n",
              "438752   5680433          37080, TN, 7730 Wilkinson Road\n",
              "438753   5353755     2815 Saint Edwards Drive, 37211, TN\n",
              "438754   5689895          85306, AZ, 5434 West Beck Lane\n",
              "438755   5833391               05641, VT, 21 Hill Street\n",
              "438756   6395895  73120, OK, 2316 Northwest 113th Street\n",
              "\n",
              "[438757 rows x 2 columns]"
            ],
            "text/html": [
              "\n",
              "  <div id=\"df-2a8935f5-dbd8-4382-8516-26e32b1d7176\">\n",
              "    <div class=\"colab-df-container\">\n",
              "      <div>\n",
              "<style scoped>\n",
              "    .dataframe tbody tr th:only-of-type {\n",
              "        vertical-align: middle;\n",
              "    }\n",
              "\n",
              "    .dataframe tbody tr th {\n",
              "        vertical-align: top;\n",
              "    }\n",
              "\n",
              "    .dataframe thead th {\n",
              "        text-align: right;\n",
              "    }\n",
              "</style>\n",
              "<table border=\"1\" class=\"dataframe\">\n",
              "  <thead>\n",
              "    <tr style=\"text-align: right;\">\n",
              "      <th></th>\n",
              "      <th>New_ID</th>\n",
              "      <th>ADDRESS</th>\n",
              "    </tr>\n",
              "  </thead>\n",
              "  <tbody>\n",
              "    <tr>\n",
              "      <th>0</th>\n",
              "      <td>5008804L</td>\n",
              "      <td>06042, CT, 31 Mitchell Road</td>\n",
              "    </tr>\n",
              "    <tr>\n",
              "      <th>1</th>\n",
              "      <td>5008805G</td>\n",
              "      <td>72703, AR, 1189 Northwest End Avenue</td>\n",
              "    </tr>\n",
              "    <tr>\n",
              "      <th>2</th>\n",
              "      <td>5008806D</td>\n",
              "      <td>72701, AR, 218 Shipley Alley</td>\n",
              "    </tr>\n",
              "    <tr>\n",
              "      <th>3</th>\n",
              "      <td>5008808I</td>\n",
              "      <td>3138 P Street Northwest, 20007, DC</td>\n",
              "    </tr>\n",
              "    <tr>\n",
              "      <th>4</th>\n",
              "      <td>5008809Z</td>\n",
              "      <td>2405 230th Street, 21122, MD</td>\n",
              "    </tr>\n",
              "    <tr>\n",
              "      <th>...</th>\n",
              "      <td>...</td>\n",
              "      <td>...</td>\n",
              "    </tr>\n",
              "    <tr>\n",
              "      <th>438752</th>\n",
              "      <td>5680433</td>\n",
              "      <td>37080, TN, 7730 Wilkinson Road</td>\n",
              "    </tr>\n",
              "    <tr>\n",
              "      <th>438753</th>\n",
              "      <td>5353755</td>\n",
              "      <td>2815 Saint Edwards Drive, 37211, TN</td>\n",
              "    </tr>\n",
              "    <tr>\n",
              "      <th>438754</th>\n",
              "      <td>5689895</td>\n",
              "      <td>85306, AZ, 5434 West Beck Lane</td>\n",
              "    </tr>\n",
              "    <tr>\n",
              "      <th>438755</th>\n",
              "      <td>5833391</td>\n",
              "      <td>05641, VT, 21 Hill Street</td>\n",
              "    </tr>\n",
              "    <tr>\n",
              "      <th>438756</th>\n",
              "      <td>6395895</td>\n",
              "      <td>73120, OK, 2316 Northwest 113th Street</td>\n",
              "    </tr>\n",
              "  </tbody>\n",
              "</table>\n",
              "<p>438757 rows × 2 columns</p>\n",
              "</div>\n",
              "      <button class=\"colab-df-convert\" onclick=\"convertToInteractive('df-2a8935f5-dbd8-4382-8516-26e32b1d7176')\"\n",
              "              title=\"Convert this dataframe to an interactive table.\"\n",
              "              style=\"display:none;\">\n",
              "        \n",
              "  <svg xmlns=\"http://www.w3.org/2000/svg\" height=\"24px\"viewBox=\"0 0 24 24\"\n",
              "       width=\"24px\">\n",
              "    <path d=\"M0 0h24v24H0V0z\" fill=\"none\"/>\n",
              "    <path d=\"M18.56 5.44l.94 2.06.94-2.06 2.06-.94-2.06-.94-.94-2.06-.94 2.06-2.06.94zm-11 1L8.5 8.5l.94-2.06 2.06-.94-2.06-.94L8.5 2.5l-.94 2.06-2.06.94zm10 10l.94 2.06.94-2.06 2.06-.94-2.06-.94-.94-2.06-.94 2.06-2.06.94z\"/><path d=\"M17.41 7.96l-1.37-1.37c-.4-.4-.92-.59-1.43-.59-.52 0-1.04.2-1.43.59L10.3 9.45l-7.72 7.72c-.78.78-.78 2.05 0 2.83L4 21.41c.39.39.9.59 1.41.59.51 0 1.02-.2 1.41-.59l7.78-7.78 2.81-2.81c.8-.78.8-2.07 0-2.86zM5.41 20L4 18.59l7.72-7.72 1.47 1.35L5.41 20z\"/>\n",
              "  </svg>\n",
              "      </button>\n",
              "      \n",
              "  <style>\n",
              "    .colab-df-container {\n",
              "      display:flex;\n",
              "      flex-wrap:wrap;\n",
              "      gap: 12px;\n",
              "    }\n",
              "\n",
              "    .colab-df-convert {\n",
              "      background-color: #E8F0FE;\n",
              "      border: none;\n",
              "      border-radius: 50%;\n",
              "      cursor: pointer;\n",
              "      display: none;\n",
              "      fill: #1967D2;\n",
              "      height: 32px;\n",
              "      padding: 0 0 0 0;\n",
              "      width: 32px;\n",
              "    }\n",
              "\n",
              "    .colab-df-convert:hover {\n",
              "      background-color: #E2EBFA;\n",
              "      box-shadow: 0px 1px 2px rgba(60, 64, 67, 0.3), 0px 1px 3px 1px rgba(60, 64, 67, 0.15);\n",
              "      fill: #174EA6;\n",
              "    }\n",
              "\n",
              "    [theme=dark] .colab-df-convert {\n",
              "      background-color: #3B4455;\n",
              "      fill: #D2E3FC;\n",
              "    }\n",
              "\n",
              "    [theme=dark] .colab-df-convert:hover {\n",
              "      background-color: #434B5C;\n",
              "      box-shadow: 0px 1px 3px 1px rgba(0, 0, 0, 0.15);\n",
              "      filter: drop-shadow(0px 1px 2px rgba(0, 0, 0, 0.3));\n",
              "      fill: #FFFFFF;\n",
              "    }\n",
              "  </style>\n",
              "\n",
              "      <script>\n",
              "        const buttonEl =\n",
              "          document.querySelector('#df-2a8935f5-dbd8-4382-8516-26e32b1d7176 button.colab-df-convert');\n",
              "        buttonEl.style.display =\n",
              "          google.colab.kernel.accessAllowed ? 'block' : 'none';\n",
              "\n",
              "        async function convertToInteractive(key) {\n",
              "          const element = document.querySelector('#df-2a8935f5-dbd8-4382-8516-26e32b1d7176');\n",
              "          const dataTable =\n",
              "            await google.colab.kernel.invokeFunction('convertToInteractive',\n",
              "                                                     [key], {});\n",
              "          if (!dataTable) return;\n",
              "\n",
              "          const docLinkHtml = 'Like what you see? Visit the ' +\n",
              "            '<a target=\"_blank\" href=https://colab.research.google.com/notebooks/data_table.ipynb>data table notebook</a>'\n",
              "            + ' to learn more about interactive tables.';\n",
              "          element.innerHTML = '';\n",
              "          dataTable['output_type'] = 'display_data';\n",
              "          await google.colab.output.renderOutput(dataTable, element);\n",
              "          const docLink = document.createElement('div');\n",
              "          docLink.innerHTML = docLinkHtml;\n",
              "          element.appendChild(docLink);\n",
              "        }\n",
              "      </script>\n",
              "    </div>\n",
              "  </div>\n",
              "  "
            ]
          },
          "metadata": {},
          "execution_count": 85
        }
      ],
      "source": [
        "address"
      ]
    },
    {
      "cell_type": "code",
      "execution_count": 86,
      "id": "9bd555f1",
      "metadata": {
        "colab": {
          "base_uri": "https://localhost:8080/",
          "height": 626
        },
        "id": "9bd555f1",
        "outputId": "d0419d46-2466-4c8c-e0de-8ac87575c86a"
      },
      "outputs": [
        {
          "output_type": "execute_result",
          "data": {
            "text/plain": [
              "       CODE_GENDER FLAG_OWN_CAR FLAG_OWN_REALTY  CNT_CHILDREN  \\\n",
              "0                M            Y               Y           0.0   \n",
              "1                M            Y               Y           0.0   \n",
              "2                M            Y               Y           0.0   \n",
              "3                F            N               Y           0.0   \n",
              "4                F          NaN               Y           0.0   \n",
              "...            ...          ...             ...           ...   \n",
              "438752           F            N               N           1.0   \n",
              "438753           F            Y               Y           0.0   \n",
              "438754           F            N               Y           0.0   \n",
              "438755           M            N             NaN           0.0   \n",
              "438756           M            N               Y           1.0   \n",
              "\n",
              "        AMT_INCOME_TOTAL      NAME_INCOME_TYPE            NAME_EDUCATION_TYPE  \\\n",
              "0               427500.0               Working               Higher education   \n",
              "1               427500.0               Working               Higher education   \n",
              "2               112500.0               Working  Secondary / secondary special   \n",
              "3               270000.0  Commercial associate  Secondary / secondary special   \n",
              "4               270000.0  Commercial associate  Secondary / secondary special   \n",
              "...                  ...                   ...                            ...   \n",
              "438752          130500.0               Working  Secondary / secondary special   \n",
              "438753          180000.0  Commercial associate  Secondary / secondary special   \n",
              "438754          148500.0               Working  Secondary / secondary special   \n",
              "438755          180000.0               Working  Secondary / secondary special   \n",
              "438756          225000.0  Commercial associate  Secondary / secondary special   \n",
              "\n",
              "          NAME_FAMILY_STATUS  NAME_HOUSING_TYPE  DAYS_EMPLOYED  FLAG_MOBIL  \\\n",
              "0             Civil marriage   Rented apartment        -4542.0         1.0   \n",
              "1             Civil marriage   Rented apartment        -4542.0         1.0   \n",
              "2                    Married  House / apartment        -1134.0         1.0   \n",
              "3       Single / not married  House / apartment        -3051.0         1.0   \n",
              "4       Single / not married  House / apartment        -3051.0         1.0   \n",
              "...                      ...                ...            ...         ...   \n",
              "438752             Separated       With parents        -3331.0         1.0   \n",
              "438753        Civil marriage  House / apartment        -5941.0         1.0   \n",
              "438754        Civil marriage  House / apartment         -880.0         1.0   \n",
              "438755        Civil marriage  House / apartment         -885.0         1.0   \n",
              "438756               Married  House / apartment         -783.0         1.0   \n",
              "\n",
              "        FLAG_WORK_PHONE  FLAG_PHONE  FLAG_EMAIL OCCUPATION_TYPE  \\\n",
              "0                   1.0         0.0         0.0             NaN   \n",
              "1                   1.0         0.0         0.0             NaN   \n",
              "2                   0.0         0.0         0.0  Security staff   \n",
              "3                   0.0         1.0         1.0     Sales staff   \n",
              "4                   0.0         1.0         1.0     Sales staff   \n",
              "...                 ...         ...         ...             ...   \n",
              "438752              1.0         0.0         0.0     Sales staff   \n",
              "438753              0.0         NaN         0.0             NaN   \n",
              "438754              0.0         0.0         0.0     Sales staff   \n",
              "438755              1.0         0.0         0.0        Laborers   \n",
              "438756              0.0         0.0         1.0     Sales staff   \n",
              "\n",
              "        CNT_FAM_MEMBERS DAYS_BIRTH_CLEAN Letter  Main_ID  \n",
              "0                   2.0       09/04/1990      L  5008804  \n",
              "1                   2.0       09/04/1990      G  5008805  \n",
              "2                   2.0       06/05/1964      D  5008806  \n",
              "3                   1.0       26/10/1970      I  5008808  \n",
              "4                   1.0       26/10/1970      Z  5008809  \n",
              "...                 ...              ...    ...      ...  \n",
              "438752              2.0       04/06/1991      X  6153574  \n",
              "438753              2.0       05/01/1978      V  6153575  \n",
              "438754              2.0       07/03/1974      J  6153576  \n",
              "438755              2.0       08/03/1965      S  6153578  \n",
              "438756              3.0       24/11/1989      D  5009016  \n",
              "\n",
              "[438757 rows x 19 columns]"
            ],
            "text/html": [
              "\n",
              "  <div id=\"df-d692d217-0dce-48eb-ba3f-1f7438651807\">\n",
              "    <div class=\"colab-df-container\">\n",
              "      <div>\n",
              "<style scoped>\n",
              "    .dataframe tbody tr th:only-of-type {\n",
              "        vertical-align: middle;\n",
              "    }\n",
              "\n",
              "    .dataframe tbody tr th {\n",
              "        vertical-align: top;\n",
              "    }\n",
              "\n",
              "    .dataframe thead th {\n",
              "        text-align: right;\n",
              "    }\n",
              "</style>\n",
              "<table border=\"1\" class=\"dataframe\">\n",
              "  <thead>\n",
              "    <tr style=\"text-align: right;\">\n",
              "      <th></th>\n",
              "      <th>CODE_GENDER</th>\n",
              "      <th>FLAG_OWN_CAR</th>\n",
              "      <th>FLAG_OWN_REALTY</th>\n",
              "      <th>CNT_CHILDREN</th>\n",
              "      <th>AMT_INCOME_TOTAL</th>\n",
              "      <th>NAME_INCOME_TYPE</th>\n",
              "      <th>NAME_EDUCATION_TYPE</th>\n",
              "      <th>NAME_FAMILY_STATUS</th>\n",
              "      <th>NAME_HOUSING_TYPE</th>\n",
              "      <th>DAYS_EMPLOYED</th>\n",
              "      <th>FLAG_MOBIL</th>\n",
              "      <th>FLAG_WORK_PHONE</th>\n",
              "      <th>FLAG_PHONE</th>\n",
              "      <th>FLAG_EMAIL</th>\n",
              "      <th>OCCUPATION_TYPE</th>\n",
              "      <th>CNT_FAM_MEMBERS</th>\n",
              "      <th>DAYS_BIRTH_CLEAN</th>\n",
              "      <th>Letter</th>\n",
              "      <th>Main_ID</th>\n",
              "    </tr>\n",
              "  </thead>\n",
              "  <tbody>\n",
              "    <tr>\n",
              "      <th>0</th>\n",
              "      <td>M</td>\n",
              "      <td>Y</td>\n",
              "      <td>Y</td>\n",
              "      <td>0.0</td>\n",
              "      <td>427500.0</td>\n",
              "      <td>Working</td>\n",
              "      <td>Higher education</td>\n",
              "      <td>Civil marriage</td>\n",
              "      <td>Rented apartment</td>\n",
              "      <td>-4542.0</td>\n",
              "      <td>1.0</td>\n",
              "      <td>1.0</td>\n",
              "      <td>0.0</td>\n",
              "      <td>0.0</td>\n",
              "      <td>NaN</td>\n",
              "      <td>2.0</td>\n",
              "      <td>09/04/1990</td>\n",
              "      <td>L</td>\n",
              "      <td>5008804</td>\n",
              "    </tr>\n",
              "    <tr>\n",
              "      <th>1</th>\n",
              "      <td>M</td>\n",
              "      <td>Y</td>\n",
              "      <td>Y</td>\n",
              "      <td>0.0</td>\n",
              "      <td>427500.0</td>\n",
              "      <td>Working</td>\n",
              "      <td>Higher education</td>\n",
              "      <td>Civil marriage</td>\n",
              "      <td>Rented apartment</td>\n",
              "      <td>-4542.0</td>\n",
              "      <td>1.0</td>\n",
              "      <td>1.0</td>\n",
              "      <td>0.0</td>\n",
              "      <td>0.0</td>\n",
              "      <td>NaN</td>\n",
              "      <td>2.0</td>\n",
              "      <td>09/04/1990</td>\n",
              "      <td>G</td>\n",
              "      <td>5008805</td>\n",
              "    </tr>\n",
              "    <tr>\n",
              "      <th>2</th>\n",
              "      <td>M</td>\n",
              "      <td>Y</td>\n",
              "      <td>Y</td>\n",
              "      <td>0.0</td>\n",
              "      <td>112500.0</td>\n",
              "      <td>Working</td>\n",
              "      <td>Secondary / secondary special</td>\n",
              "      <td>Married</td>\n",
              "      <td>House / apartment</td>\n",
              "      <td>-1134.0</td>\n",
              "      <td>1.0</td>\n",
              "      <td>0.0</td>\n",
              "      <td>0.0</td>\n",
              "      <td>0.0</td>\n",
              "      <td>Security staff</td>\n",
              "      <td>2.0</td>\n",
              "      <td>06/05/1964</td>\n",
              "      <td>D</td>\n",
              "      <td>5008806</td>\n",
              "    </tr>\n",
              "    <tr>\n",
              "      <th>3</th>\n",
              "      <td>F</td>\n",
              "      <td>N</td>\n",
              "      <td>Y</td>\n",
              "      <td>0.0</td>\n",
              "      <td>270000.0</td>\n",
              "      <td>Commercial associate</td>\n",
              "      <td>Secondary / secondary special</td>\n",
              "      <td>Single / not married</td>\n",
              "      <td>House / apartment</td>\n",
              "      <td>-3051.0</td>\n",
              "      <td>1.0</td>\n",
              "      <td>0.0</td>\n",
              "      <td>1.0</td>\n",
              "      <td>1.0</td>\n",
              "      <td>Sales staff</td>\n",
              "      <td>1.0</td>\n",
              "      <td>26/10/1970</td>\n",
              "      <td>I</td>\n",
              "      <td>5008808</td>\n",
              "    </tr>\n",
              "    <tr>\n",
              "      <th>4</th>\n",
              "      <td>F</td>\n",
              "      <td>NaN</td>\n",
              "      <td>Y</td>\n",
              "      <td>0.0</td>\n",
              "      <td>270000.0</td>\n",
              "      <td>Commercial associate</td>\n",
              "      <td>Secondary / secondary special</td>\n",
              "      <td>Single / not married</td>\n",
              "      <td>House / apartment</td>\n",
              "      <td>-3051.0</td>\n",
              "      <td>1.0</td>\n",
              "      <td>0.0</td>\n",
              "      <td>1.0</td>\n",
              "      <td>1.0</td>\n",
              "      <td>Sales staff</td>\n",
              "      <td>1.0</td>\n",
              "      <td>26/10/1970</td>\n",
              "      <td>Z</td>\n",
              "      <td>5008809</td>\n",
              "    </tr>\n",
              "    <tr>\n",
              "      <th>...</th>\n",
              "      <td>...</td>\n",
              "      <td>...</td>\n",
              "      <td>...</td>\n",
              "      <td>...</td>\n",
              "      <td>...</td>\n",
              "      <td>...</td>\n",
              "      <td>...</td>\n",
              "      <td>...</td>\n",
              "      <td>...</td>\n",
              "      <td>...</td>\n",
              "      <td>...</td>\n",
              "      <td>...</td>\n",
              "      <td>...</td>\n",
              "      <td>...</td>\n",
              "      <td>...</td>\n",
              "      <td>...</td>\n",
              "      <td>...</td>\n",
              "      <td>...</td>\n",
              "      <td>...</td>\n",
              "    </tr>\n",
              "    <tr>\n",
              "      <th>438752</th>\n",
              "      <td>F</td>\n",
              "      <td>N</td>\n",
              "      <td>N</td>\n",
              "      <td>1.0</td>\n",
              "      <td>130500.0</td>\n",
              "      <td>Working</td>\n",
              "      <td>Secondary / secondary special</td>\n",
              "      <td>Separated</td>\n",
              "      <td>With parents</td>\n",
              "      <td>-3331.0</td>\n",
              "      <td>1.0</td>\n",
              "      <td>1.0</td>\n",
              "      <td>0.0</td>\n",
              "      <td>0.0</td>\n",
              "      <td>Sales staff</td>\n",
              "      <td>2.0</td>\n",
              "      <td>04/06/1991</td>\n",
              "      <td>X</td>\n",
              "      <td>6153574</td>\n",
              "    </tr>\n",
              "    <tr>\n",
              "      <th>438753</th>\n",
              "      <td>F</td>\n",
              "      <td>Y</td>\n",
              "      <td>Y</td>\n",
              "      <td>0.0</td>\n",
              "      <td>180000.0</td>\n",
              "      <td>Commercial associate</td>\n",
              "      <td>Secondary / secondary special</td>\n",
              "      <td>Civil marriage</td>\n",
              "      <td>House / apartment</td>\n",
              "      <td>-5941.0</td>\n",
              "      <td>1.0</td>\n",
              "      <td>0.0</td>\n",
              "      <td>NaN</td>\n",
              "      <td>0.0</td>\n",
              "      <td>NaN</td>\n",
              "      <td>2.0</td>\n",
              "      <td>05/01/1978</td>\n",
              "      <td>V</td>\n",
              "      <td>6153575</td>\n",
              "    </tr>\n",
              "    <tr>\n",
              "      <th>438754</th>\n",
              "      <td>F</td>\n",
              "      <td>N</td>\n",
              "      <td>Y</td>\n",
              "      <td>0.0</td>\n",
              "      <td>148500.0</td>\n",
              "      <td>Working</td>\n",
              "      <td>Secondary / secondary special</td>\n",
              "      <td>Civil marriage</td>\n",
              "      <td>House / apartment</td>\n",
              "      <td>-880.0</td>\n",
              "      <td>1.0</td>\n",
              "      <td>0.0</td>\n",
              "      <td>0.0</td>\n",
              "      <td>0.0</td>\n",
              "      <td>Sales staff</td>\n",
              "      <td>2.0</td>\n",
              "      <td>07/03/1974</td>\n",
              "      <td>J</td>\n",
              "      <td>6153576</td>\n",
              "    </tr>\n",
              "    <tr>\n",
              "      <th>438755</th>\n",
              "      <td>M</td>\n",
              "      <td>N</td>\n",
              "      <td>NaN</td>\n",
              "      <td>0.0</td>\n",
              "      <td>180000.0</td>\n",
              "      <td>Working</td>\n",
              "      <td>Secondary / secondary special</td>\n",
              "      <td>Civil marriage</td>\n",
              "      <td>House / apartment</td>\n",
              "      <td>-885.0</td>\n",
              "      <td>1.0</td>\n",
              "      <td>1.0</td>\n",
              "      <td>0.0</td>\n",
              "      <td>0.0</td>\n",
              "      <td>Laborers</td>\n",
              "      <td>2.0</td>\n",
              "      <td>08/03/1965</td>\n",
              "      <td>S</td>\n",
              "      <td>6153578</td>\n",
              "    </tr>\n",
              "    <tr>\n",
              "      <th>438756</th>\n",
              "      <td>M</td>\n",
              "      <td>N</td>\n",
              "      <td>Y</td>\n",
              "      <td>1.0</td>\n",
              "      <td>225000.0</td>\n",
              "      <td>Commercial associate</td>\n",
              "      <td>Secondary / secondary special</td>\n",
              "      <td>Married</td>\n",
              "      <td>House / apartment</td>\n",
              "      <td>-783.0</td>\n",
              "      <td>1.0</td>\n",
              "      <td>0.0</td>\n",
              "      <td>0.0</td>\n",
              "      <td>1.0</td>\n",
              "      <td>Sales staff</td>\n",
              "      <td>3.0</td>\n",
              "      <td>24/11/1989</td>\n",
              "      <td>D</td>\n",
              "      <td>5009016</td>\n",
              "    </tr>\n",
              "  </tbody>\n",
              "</table>\n",
              "<p>438757 rows × 19 columns</p>\n",
              "</div>\n",
              "      <button class=\"colab-df-convert\" onclick=\"convertToInteractive('df-d692d217-0dce-48eb-ba3f-1f7438651807')\"\n",
              "              title=\"Convert this dataframe to an interactive table.\"\n",
              "              style=\"display:none;\">\n",
              "        \n",
              "  <svg xmlns=\"http://www.w3.org/2000/svg\" height=\"24px\"viewBox=\"0 0 24 24\"\n",
              "       width=\"24px\">\n",
              "    <path d=\"M0 0h24v24H0V0z\" fill=\"none\"/>\n",
              "    <path d=\"M18.56 5.44l.94 2.06.94-2.06 2.06-.94-2.06-.94-.94-2.06-.94 2.06-2.06.94zm-11 1L8.5 8.5l.94-2.06 2.06-.94-2.06-.94L8.5 2.5l-.94 2.06-2.06.94zm10 10l.94 2.06.94-2.06 2.06-.94-2.06-.94-.94-2.06-.94 2.06-2.06.94z\"/><path d=\"M17.41 7.96l-1.37-1.37c-.4-.4-.92-.59-1.43-.59-.52 0-1.04.2-1.43.59L10.3 9.45l-7.72 7.72c-.78.78-.78 2.05 0 2.83L4 21.41c.39.39.9.59 1.41.59.51 0 1.02-.2 1.41-.59l7.78-7.78 2.81-2.81c.8-.78.8-2.07 0-2.86zM5.41 20L4 18.59l7.72-7.72 1.47 1.35L5.41 20z\"/>\n",
              "  </svg>\n",
              "      </button>\n",
              "      \n",
              "  <style>\n",
              "    .colab-df-container {\n",
              "      display:flex;\n",
              "      flex-wrap:wrap;\n",
              "      gap: 12px;\n",
              "    }\n",
              "\n",
              "    .colab-df-convert {\n",
              "      background-color: #E8F0FE;\n",
              "      border: none;\n",
              "      border-radius: 50%;\n",
              "      cursor: pointer;\n",
              "      display: none;\n",
              "      fill: #1967D2;\n",
              "      height: 32px;\n",
              "      padding: 0 0 0 0;\n",
              "      width: 32px;\n",
              "    }\n",
              "\n",
              "    .colab-df-convert:hover {\n",
              "      background-color: #E2EBFA;\n",
              "      box-shadow: 0px 1px 2px rgba(60, 64, 67, 0.3), 0px 1px 3px 1px rgba(60, 64, 67, 0.15);\n",
              "      fill: #174EA6;\n",
              "    }\n",
              "\n",
              "    [theme=dark] .colab-df-convert {\n",
              "      background-color: #3B4455;\n",
              "      fill: #D2E3FC;\n",
              "    }\n",
              "\n",
              "    [theme=dark] .colab-df-convert:hover {\n",
              "      background-color: #434B5C;\n",
              "      box-shadow: 0px 1px 3px 1px rgba(0, 0, 0, 0.15);\n",
              "      filter: drop-shadow(0px 1px 2px rgba(0, 0, 0, 0.3));\n",
              "      fill: #FFFFFF;\n",
              "    }\n",
              "  </style>\n",
              "\n",
              "      <script>\n",
              "        const buttonEl =\n",
              "          document.querySelector('#df-d692d217-0dce-48eb-ba3f-1f7438651807 button.colab-df-convert');\n",
              "        buttonEl.style.display =\n",
              "          google.colab.kernel.accessAllowed ? 'block' : 'none';\n",
              "\n",
              "        async function convertToInteractive(key) {\n",
              "          const element = document.querySelector('#df-d692d217-0dce-48eb-ba3f-1f7438651807');\n",
              "          const dataTable =\n",
              "            await google.colab.kernel.invokeFunction('convertToInteractive',\n",
              "                                                     [key], {});\n",
              "          if (!dataTable) return;\n",
              "\n",
              "          const docLinkHtml = 'Like what you see? Visit the ' +\n",
              "            '<a target=\"_blank\" href=https://colab.research.google.com/notebooks/data_table.ipynb>data table notebook</a>'\n",
              "            + ' to learn more about interactive tables.';\n",
              "          element.innerHTML = '';\n",
              "          dataTable['output_type'] = 'display_data';\n",
              "          await google.colab.output.renderOutput(dataTable, element);\n",
              "          const docLink = document.createElement('div');\n",
              "          docLink.innerHTML = docLinkHtml;\n",
              "          element.appendChild(docLink);\n",
              "        }\n",
              "      </script>\n",
              "    </div>\n",
              "  </div>\n",
              "  "
            ]
          },
          "metadata": {},
          "execution_count": 86
        }
      ],
      "source": [
        "main"
      ]
    },
    {
      "cell_type": "code",
      "execution_count": 87,
      "id": "2f51caf9",
      "metadata": {
        "colab": {
          "base_uri": "https://localhost:8080/"
        },
        "id": "2f51caf9",
        "outputId": "a4009c96-e79a-4586-c56e-e0e7b9621cfd"
      },
      "outputs": [
        {
          "output_type": "execute_result",
          "data": {
            "text/plain": [
              "5008804    2\n",
              "5008986    2\n",
              "5008967    2\n",
              "5008971    2\n",
              "5008973    2\n",
              "          ..\n",
              "6620863    1\n",
              "6620862    1\n",
              "6620861    1\n",
              "6620858    1\n",
              "6842885    1\n",
              "Name: Main_ID, Length: 438510, dtype: int64"
            ]
          },
          "metadata": {},
          "execution_count": 87
        }
      ],
      "source": [
        "main.Main_ID.value_counts()"
      ]
    },
    {
      "cell_type": "code",
      "execution_count": 88,
      "id": "ff3b8691",
      "metadata": {
        "colab": {
          "base_uri": "https://localhost:8080/",
          "height": 423
        },
        "id": "ff3b8691",
        "outputId": "d9a2acea-a479-47ab-b079-dba7240b152e"
      },
      "outputs": [
        {
          "output_type": "execute_result",
          "data": {
            "text/plain": [
              "              ID  MONTHS_BALANCE STATUS\n",
              "0        5001711               0      X\n",
              "1        5001711              -1      0\n",
              "2        5001711              -2      0\n",
              "3        5001711              -3      0\n",
              "4        5001712               0      C\n",
              "...          ...             ...    ...\n",
              "1048570  5150487             -25      C\n",
              "1048571  5150487             -26      C\n",
              "1048572  5150487             -27      C\n",
              "1048573  5150487             -28      C\n",
              "1048574  5150487             -29      C\n",
              "\n",
              "[1048575 rows x 3 columns]"
            ],
            "text/html": [
              "\n",
              "  <div id=\"df-47100e21-5b86-4204-aac5-04cc6f3e16a5\">\n",
              "    <div class=\"colab-df-container\">\n",
              "      <div>\n",
              "<style scoped>\n",
              "    .dataframe tbody tr th:only-of-type {\n",
              "        vertical-align: middle;\n",
              "    }\n",
              "\n",
              "    .dataframe tbody tr th {\n",
              "        vertical-align: top;\n",
              "    }\n",
              "\n",
              "    .dataframe thead th {\n",
              "        text-align: right;\n",
              "    }\n",
              "</style>\n",
              "<table border=\"1\" class=\"dataframe\">\n",
              "  <thead>\n",
              "    <tr style=\"text-align: right;\">\n",
              "      <th></th>\n",
              "      <th>ID</th>\n",
              "      <th>MONTHS_BALANCE</th>\n",
              "      <th>STATUS</th>\n",
              "    </tr>\n",
              "  </thead>\n",
              "  <tbody>\n",
              "    <tr>\n",
              "      <th>0</th>\n",
              "      <td>5001711</td>\n",
              "      <td>0</td>\n",
              "      <td>X</td>\n",
              "    </tr>\n",
              "    <tr>\n",
              "      <th>1</th>\n",
              "      <td>5001711</td>\n",
              "      <td>-1</td>\n",
              "      <td>0</td>\n",
              "    </tr>\n",
              "    <tr>\n",
              "      <th>2</th>\n",
              "      <td>5001711</td>\n",
              "      <td>-2</td>\n",
              "      <td>0</td>\n",
              "    </tr>\n",
              "    <tr>\n",
              "      <th>3</th>\n",
              "      <td>5001711</td>\n",
              "      <td>-3</td>\n",
              "      <td>0</td>\n",
              "    </tr>\n",
              "    <tr>\n",
              "      <th>4</th>\n",
              "      <td>5001712</td>\n",
              "      <td>0</td>\n",
              "      <td>C</td>\n",
              "    </tr>\n",
              "    <tr>\n",
              "      <th>...</th>\n",
              "      <td>...</td>\n",
              "      <td>...</td>\n",
              "      <td>...</td>\n",
              "    </tr>\n",
              "    <tr>\n",
              "      <th>1048570</th>\n",
              "      <td>5150487</td>\n",
              "      <td>-25</td>\n",
              "      <td>C</td>\n",
              "    </tr>\n",
              "    <tr>\n",
              "      <th>1048571</th>\n",
              "      <td>5150487</td>\n",
              "      <td>-26</td>\n",
              "      <td>C</td>\n",
              "    </tr>\n",
              "    <tr>\n",
              "      <th>1048572</th>\n",
              "      <td>5150487</td>\n",
              "      <td>-27</td>\n",
              "      <td>C</td>\n",
              "    </tr>\n",
              "    <tr>\n",
              "      <th>1048573</th>\n",
              "      <td>5150487</td>\n",
              "      <td>-28</td>\n",
              "      <td>C</td>\n",
              "    </tr>\n",
              "    <tr>\n",
              "      <th>1048574</th>\n",
              "      <td>5150487</td>\n",
              "      <td>-29</td>\n",
              "      <td>C</td>\n",
              "    </tr>\n",
              "  </tbody>\n",
              "</table>\n",
              "<p>1048575 rows × 3 columns</p>\n",
              "</div>\n",
              "      <button class=\"colab-df-convert\" onclick=\"convertToInteractive('df-47100e21-5b86-4204-aac5-04cc6f3e16a5')\"\n",
              "              title=\"Convert this dataframe to an interactive table.\"\n",
              "              style=\"display:none;\">\n",
              "        \n",
              "  <svg xmlns=\"http://www.w3.org/2000/svg\" height=\"24px\"viewBox=\"0 0 24 24\"\n",
              "       width=\"24px\">\n",
              "    <path d=\"M0 0h24v24H0V0z\" fill=\"none\"/>\n",
              "    <path d=\"M18.56 5.44l.94 2.06.94-2.06 2.06-.94-2.06-.94-.94-2.06-.94 2.06-2.06.94zm-11 1L8.5 8.5l.94-2.06 2.06-.94-2.06-.94L8.5 2.5l-.94 2.06-2.06.94zm10 10l.94 2.06.94-2.06 2.06-.94-2.06-.94-.94-2.06-.94 2.06-2.06.94z\"/><path d=\"M17.41 7.96l-1.37-1.37c-.4-.4-.92-.59-1.43-.59-.52 0-1.04.2-1.43.59L10.3 9.45l-7.72 7.72c-.78.78-.78 2.05 0 2.83L4 21.41c.39.39.9.59 1.41.59.51 0 1.02-.2 1.41-.59l7.78-7.78 2.81-2.81c.8-.78.8-2.07 0-2.86zM5.41 20L4 18.59l7.72-7.72 1.47 1.35L5.41 20z\"/>\n",
              "  </svg>\n",
              "      </button>\n",
              "      \n",
              "  <style>\n",
              "    .colab-df-container {\n",
              "      display:flex;\n",
              "      flex-wrap:wrap;\n",
              "      gap: 12px;\n",
              "    }\n",
              "\n",
              "    .colab-df-convert {\n",
              "      background-color: #E8F0FE;\n",
              "      border: none;\n",
              "      border-radius: 50%;\n",
              "      cursor: pointer;\n",
              "      display: none;\n",
              "      fill: #1967D2;\n",
              "      height: 32px;\n",
              "      padding: 0 0 0 0;\n",
              "      width: 32px;\n",
              "    }\n",
              "\n",
              "    .colab-df-convert:hover {\n",
              "      background-color: #E2EBFA;\n",
              "      box-shadow: 0px 1px 2px rgba(60, 64, 67, 0.3), 0px 1px 3px 1px rgba(60, 64, 67, 0.15);\n",
              "      fill: #174EA6;\n",
              "    }\n",
              "\n",
              "    [theme=dark] .colab-df-convert {\n",
              "      background-color: #3B4455;\n",
              "      fill: #D2E3FC;\n",
              "    }\n",
              "\n",
              "    [theme=dark] .colab-df-convert:hover {\n",
              "      background-color: #434B5C;\n",
              "      box-shadow: 0px 1px 3px 1px rgba(0, 0, 0, 0.15);\n",
              "      filter: drop-shadow(0px 1px 2px rgba(0, 0, 0, 0.3));\n",
              "      fill: #FFFFFF;\n",
              "    }\n",
              "  </style>\n",
              "\n",
              "      <script>\n",
              "        const buttonEl =\n",
              "          document.querySelector('#df-47100e21-5b86-4204-aac5-04cc6f3e16a5 button.colab-df-convert');\n",
              "        buttonEl.style.display =\n",
              "          google.colab.kernel.accessAllowed ? 'block' : 'none';\n",
              "\n",
              "        async function convertToInteractive(key) {\n",
              "          const element = document.querySelector('#df-47100e21-5b86-4204-aac5-04cc6f3e16a5');\n",
              "          const dataTable =\n",
              "            await google.colab.kernel.invokeFunction('convertToInteractive',\n",
              "                                                     [key], {});\n",
              "          if (!dataTable) return;\n",
              "\n",
              "          const docLinkHtml = 'Like what you see? Visit the ' +\n",
              "            '<a target=\"_blank\" href=https://colab.research.google.com/notebooks/data_table.ipynb>data table notebook</a>'\n",
              "            + ' to learn more about interactive tables.';\n",
              "          element.innerHTML = '';\n",
              "          dataTable['output_type'] = 'display_data';\n",
              "          await google.colab.output.renderOutput(dataTable, element);\n",
              "          const docLink = document.createElement('div');\n",
              "          docLink.innerHTML = docLinkHtml;\n",
              "          element.appendChild(docLink);\n",
              "        }\n",
              "      </script>\n",
              "    </div>\n",
              "  </div>\n",
              "  "
            ]
          },
          "metadata": {},
          "execution_count": 88
        }
      ],
      "source": [
        "paid_record"
      ]
    },
    {
      "cell_type": "code",
      "execution_count": 89,
      "id": "16a1964e",
      "metadata": {
        "colab": {
          "base_uri": "https://localhost:8080/"
        },
        "id": "16a1964e",
        "outputId": "b3340f6c-2237-46cc-8757-65c8b67a3386"
      },
      "outputs": [
        {
          "output_type": "execute_result",
          "data": {
            "text/plain": [
              "5016769    61\n",
              "5002806    61\n",
              "5118192    61\n",
              "5145767    61\n",
              "5078567    61\n",
              "           ..\n",
              "5028795     1\n",
              "5148442     1\n",
              "5053900     1\n",
              "5046332     1\n",
              "5079047     1\n",
              "Name: ID, Length: 45985, dtype: int64"
            ]
          },
          "metadata": {},
          "execution_count": 89
        }
      ],
      "source": [
        "paid_record.ID.value_counts()"
      ]
    },
    {
      "cell_type": "code",
      "execution_count": 90,
      "id": "3b221d59",
      "metadata": {
        "colab": {
          "base_uri": "https://localhost:8080/"
        },
        "id": "3b221d59",
        "outputId": "90c2b9ff-e6d5-4c74-e4d6-ed1dc6b8e950"
      },
      "outputs": [
        {
          "output_type": "execute_result",
          "data": {
            "text/plain": [
              "C    442031\n",
              "0    383120\n",
              "X    209230\n",
              "1     11090\n",
              "5      1693\n",
              "2       868\n",
              "3       320\n",
              "4       223\n",
              "Name: STATUS, dtype: int64"
            ]
          },
          "metadata": {},
          "execution_count": 90
        }
      ],
      "source": [
        "paid_record.STATUS.value_counts()"
      ]
    },
    {
      "cell_type": "markdown",
      "id": "daf1f23e",
      "metadata": {
        "id": "daf1f23e"
      },
      "source": [
        "## 2.1 Nulls"
      ]
    },
    {
      "cell_type": "code",
      "execution_count": 91,
      "id": "6f302e80",
      "metadata": {
        "colab": {
          "base_uri": "https://localhost:8080/"
        },
        "id": "6f302e80",
        "outputId": "f6fb7627-dbe8-49ba-a85c-95539bc6fb34"
      },
      "outputs": [
        {
          "output_type": "execute_result",
          "data": {
            "text/plain": [
              "New_ID     0\n",
              "ADDRESS    0\n",
              "dtype: int64"
            ]
          },
          "metadata": {},
          "execution_count": 91
        }
      ],
      "source": [
        "address.isnull().sum()"
      ]
    },
    {
      "cell_type": "code",
      "execution_count": 92,
      "id": "95d3b75c",
      "metadata": {
        "colab": {
          "base_uri": "https://localhost:8080/"
        },
        "id": "95d3b75c",
        "outputId": "2df6d75e-2e72-4102-f6ad-cd87c924497d"
      },
      "outputs": [
        {
          "output_type": "execute_result",
          "data": {
            "text/plain": [
              "CODE_GENDER             10863\n",
              "FLAG_OWN_CAR            11052\n",
              "FLAG_OWN_REALTY         10951\n",
              "CNT_CHILDREN            10931\n",
              "AMT_INCOME_TOTAL        11133\n",
              "NAME_INCOME_TYPE        11039\n",
              "NAME_EDUCATION_TYPE     11103\n",
              "NAME_FAMILY_STATUS      10985\n",
              "NAME_HOUSING_TYPE       11064\n",
              "DAYS_EMPLOYED           10973\n",
              "FLAG_MOBIL              11067\n",
              "FLAG_WORK_PHONE         11042\n",
              "FLAG_PHONE              11083\n",
              "FLAG_EMAIL              10987\n",
              "OCCUPATION_TYPE        141805\n",
              "CNT_FAM_MEMBERS         10934\n",
              "DAYS_BIRTH_CLEAN        10715\n",
              "Letter                      0\n",
              "Main_ID                     0\n",
              "dtype: int64"
            ]
          },
          "metadata": {},
          "execution_count": 92
        }
      ],
      "source": [
        "main.isnull().sum()"
      ]
    },
    {
      "cell_type": "code",
      "execution_count": 93,
      "id": "e9b7d2f0",
      "metadata": {
        "colab": {
          "base_uri": "https://localhost:8080/"
        },
        "id": "e9b7d2f0",
        "outputId": "67e538f0-5e91-4743-fbf4-01388d992872"
      },
      "outputs": [
        {
          "output_type": "execute_result",
          "data": {
            "text/plain": [
              "ID                0\n",
              "MONTHS_BALANCE    0\n",
              "STATUS            0\n",
              "dtype: int64"
            ]
          },
          "metadata": {},
          "execution_count": 93
        }
      ],
      "source": [
        "paid_record.isnull().sum()"
      ]
    },
    {
      "cell_type": "markdown",
      "id": "d27cccc4",
      "metadata": {
        "id": "d27cccc4"
      },
      "source": [
        "### 2.1.1 Nulls OCCUPATION_TYPE"
      ]
    },
    {
      "cell_type": "code",
      "execution_count": 94,
      "id": "bab2056f",
      "metadata": {
        "colab": {
          "base_uri": "https://localhost:8080/"
        },
        "id": "bab2056f",
        "outputId": "5bcf7444-f556-4b6e-da45-530582075d2b"
      },
      "outputs": [
        {
          "output_type": "execute_result",
          "data": {
            "text/plain": [
              "Laborers                 76377\n",
              "Core staff               42019\n",
              "Sales staff              40067\n",
              "Managers                 34603\n",
              "Drivers                  25471\n",
              "High skill tech staff    16844\n",
              "Accountants              15616\n",
              "Medicine staff           13194\n",
              "Cooking staff             7874\n",
              "Security staff            7792\n",
              "Cleaning staff            5683\n",
              "Private service staff     3364\n",
              "Low-skill Laborers        2086\n",
              "Secretaries               1990\n",
              "Waiters/barmen staff      1616\n",
              "Realty agents             1009\n",
              "HR staff                   760\n",
              "IT staff                   587\n",
              "Name: OCCUPATION_TYPE, dtype: int64"
            ]
          },
          "metadata": {},
          "execution_count": 94
        }
      ],
      "source": [
        "main['OCCUPATION_TYPE'].value_counts()"
      ]
    },
    {
      "cell_type": "markdown",
      "id": "a96b9a13",
      "metadata": {
        "id": "a96b9a13"
      },
      "source": [
        "## 2.2 Group_by paid_records"
      ]
    },
    {
      "cell_type": "code",
      "execution_count": 95,
      "id": "a441e7f9",
      "metadata": {
        "colab": {
          "base_uri": "https://localhost:8080/",
          "height": 455
        },
        "id": "a441e7f9",
        "outputId": "db3051da-1422-4f1e-d1da-32110f38377a"
      },
      "outputs": [
        {
          "output_type": "execute_result",
          "data": {
            "text/plain": [
              "         MONTHS_BALANCE\n",
              "ID                     \n",
              "5001711               4\n",
              "5001712              19\n",
              "5001713              22\n",
              "5001714              15\n",
              "5001715              60\n",
              "...                 ...\n",
              "5150482              18\n",
              "5150483              18\n",
              "5150484              13\n",
              "5150485               2\n",
              "5150487              30\n",
              "\n",
              "[45985 rows x 1 columns]"
            ],
            "text/html": [
              "\n",
              "  <div id=\"df-fe9b7c3b-9603-40dd-bc80-55cb8fb5bfaf\">\n",
              "    <div class=\"colab-df-container\">\n",
              "      <div>\n",
              "<style scoped>\n",
              "    .dataframe tbody tr th:only-of-type {\n",
              "        vertical-align: middle;\n",
              "    }\n",
              "\n",
              "    .dataframe tbody tr th {\n",
              "        vertical-align: top;\n",
              "    }\n",
              "\n",
              "    .dataframe thead th {\n",
              "        text-align: right;\n",
              "    }\n",
              "</style>\n",
              "<table border=\"1\" class=\"dataframe\">\n",
              "  <thead>\n",
              "    <tr style=\"text-align: right;\">\n",
              "      <th></th>\n",
              "      <th>MONTHS_BALANCE</th>\n",
              "    </tr>\n",
              "    <tr>\n",
              "      <th>ID</th>\n",
              "      <th></th>\n",
              "    </tr>\n",
              "  </thead>\n",
              "  <tbody>\n",
              "    <tr>\n",
              "      <th>5001711</th>\n",
              "      <td>4</td>\n",
              "    </tr>\n",
              "    <tr>\n",
              "      <th>5001712</th>\n",
              "      <td>19</td>\n",
              "    </tr>\n",
              "    <tr>\n",
              "      <th>5001713</th>\n",
              "      <td>22</td>\n",
              "    </tr>\n",
              "    <tr>\n",
              "      <th>5001714</th>\n",
              "      <td>15</td>\n",
              "    </tr>\n",
              "    <tr>\n",
              "      <th>5001715</th>\n",
              "      <td>60</td>\n",
              "    </tr>\n",
              "    <tr>\n",
              "      <th>...</th>\n",
              "      <td>...</td>\n",
              "    </tr>\n",
              "    <tr>\n",
              "      <th>5150482</th>\n",
              "      <td>18</td>\n",
              "    </tr>\n",
              "    <tr>\n",
              "      <th>5150483</th>\n",
              "      <td>18</td>\n",
              "    </tr>\n",
              "    <tr>\n",
              "      <th>5150484</th>\n",
              "      <td>13</td>\n",
              "    </tr>\n",
              "    <tr>\n",
              "      <th>5150485</th>\n",
              "      <td>2</td>\n",
              "    </tr>\n",
              "    <tr>\n",
              "      <th>5150487</th>\n",
              "      <td>30</td>\n",
              "    </tr>\n",
              "  </tbody>\n",
              "</table>\n",
              "<p>45985 rows × 1 columns</p>\n",
              "</div>\n",
              "      <button class=\"colab-df-convert\" onclick=\"convertToInteractive('df-fe9b7c3b-9603-40dd-bc80-55cb8fb5bfaf')\"\n",
              "              title=\"Convert this dataframe to an interactive table.\"\n",
              "              style=\"display:none;\">\n",
              "        \n",
              "  <svg xmlns=\"http://www.w3.org/2000/svg\" height=\"24px\"viewBox=\"0 0 24 24\"\n",
              "       width=\"24px\">\n",
              "    <path d=\"M0 0h24v24H0V0z\" fill=\"none\"/>\n",
              "    <path d=\"M18.56 5.44l.94 2.06.94-2.06 2.06-.94-2.06-.94-.94-2.06-.94 2.06-2.06.94zm-11 1L8.5 8.5l.94-2.06 2.06-.94-2.06-.94L8.5 2.5l-.94 2.06-2.06.94zm10 10l.94 2.06.94-2.06 2.06-.94-2.06-.94-.94-2.06-.94 2.06-2.06.94z\"/><path d=\"M17.41 7.96l-1.37-1.37c-.4-.4-.92-.59-1.43-.59-.52 0-1.04.2-1.43.59L10.3 9.45l-7.72 7.72c-.78.78-.78 2.05 0 2.83L4 21.41c.39.39.9.59 1.41.59.51 0 1.02-.2 1.41-.59l7.78-7.78 2.81-2.81c.8-.78.8-2.07 0-2.86zM5.41 20L4 18.59l7.72-7.72 1.47 1.35L5.41 20z\"/>\n",
              "  </svg>\n",
              "      </button>\n",
              "      \n",
              "  <style>\n",
              "    .colab-df-container {\n",
              "      display:flex;\n",
              "      flex-wrap:wrap;\n",
              "      gap: 12px;\n",
              "    }\n",
              "\n",
              "    .colab-df-convert {\n",
              "      background-color: #E8F0FE;\n",
              "      border: none;\n",
              "      border-radius: 50%;\n",
              "      cursor: pointer;\n",
              "      display: none;\n",
              "      fill: #1967D2;\n",
              "      height: 32px;\n",
              "      padding: 0 0 0 0;\n",
              "      width: 32px;\n",
              "    }\n",
              "\n",
              "    .colab-df-convert:hover {\n",
              "      background-color: #E2EBFA;\n",
              "      box-shadow: 0px 1px 2px rgba(60, 64, 67, 0.3), 0px 1px 3px 1px rgba(60, 64, 67, 0.15);\n",
              "      fill: #174EA6;\n",
              "    }\n",
              "\n",
              "    [theme=dark] .colab-df-convert {\n",
              "      background-color: #3B4455;\n",
              "      fill: #D2E3FC;\n",
              "    }\n",
              "\n",
              "    [theme=dark] .colab-df-convert:hover {\n",
              "      background-color: #434B5C;\n",
              "      box-shadow: 0px 1px 3px 1px rgba(0, 0, 0, 0.15);\n",
              "      filter: drop-shadow(0px 1px 2px rgba(0, 0, 0, 0.3));\n",
              "      fill: #FFFFFF;\n",
              "    }\n",
              "  </style>\n",
              "\n",
              "      <script>\n",
              "        const buttonEl =\n",
              "          document.querySelector('#df-fe9b7c3b-9603-40dd-bc80-55cb8fb5bfaf button.colab-df-convert');\n",
              "        buttonEl.style.display =\n",
              "          google.colab.kernel.accessAllowed ? 'block' : 'none';\n",
              "\n",
              "        async function convertToInteractive(key) {\n",
              "          const element = document.querySelector('#df-fe9b7c3b-9603-40dd-bc80-55cb8fb5bfaf');\n",
              "          const dataTable =\n",
              "            await google.colab.kernel.invokeFunction('convertToInteractive',\n",
              "                                                     [key], {});\n",
              "          if (!dataTable) return;\n",
              "\n",
              "          const docLinkHtml = 'Like what you see? Visit the ' +\n",
              "            '<a target=\"_blank\" href=https://colab.research.google.com/notebooks/data_table.ipynb>data table notebook</a>'\n",
              "            + ' to learn more about interactive tables.';\n",
              "          element.innerHTML = '';\n",
              "          dataTable['output_type'] = 'display_data';\n",
              "          await google.colab.output.renderOutput(dataTable, element);\n",
              "          const docLink = document.createElement('div');\n",
              "          docLink.innerHTML = docLinkHtml;\n",
              "          element.appendChild(docLink);\n",
              "        }\n",
              "      </script>\n",
              "    </div>\n",
              "  </div>\n",
              "  "
            ]
          },
          "metadata": {},
          "execution_count": 95
        }
      ],
      "source": [
        "#Count per Months Balance\n",
        "paid_record.groupby('ID').count()[['MONTHS_BALANCE']]"
      ]
    },
    {
      "cell_type": "code",
      "execution_count": 96,
      "id": "04f73bfc",
      "metadata": {
        "colab": {
          "base_uri": "https://localhost:8080/",
          "height": 361
        },
        "id": "04f73bfc",
        "outputId": "73836d6c-1744-489b-b9d8-e39fa9412f40"
      },
      "outputs": [
        {
          "output_type": "execute_result",
          "data": {
            "text/plain": [
              "MONTHS_BALANCE  -60  -59  -58   -57   -56   -55   -54   -53   -52   -51  ...  \\\n",
              "STATUS                                                                   ...   \n",
              "0               230  538  850  1120  1416  1719  1947  2223  2496  2769  ...   \n",
              "1                 0    3   11    17    28    37    46    56    66    74  ...   \n",
              "2                 0    0    0     0     2     1     2     6     5    10  ...   \n",
              "3                 0    0    0     0     0     2     2     1     2     2  ...   \n",
              "4                 0    0    0     0     0     0     1     0     1     1  ...   \n",
              "5                 0    0    0     0     0     0     0     3     3     4  ...   \n",
              "C                 1    9   24    52    91   148   230   318   435   558  ...   \n",
              "X               184  270  370   460   572   671   800   891  1017  1157  ...   \n",
              "\n",
              "MONTHS_BALANCE    -9     -8     -7     -6     -5     -4     -3     -2     -1   \\\n",
              "STATUS                                                                          \n",
              "0                9566   9752  10062  10279  10568  10491  10610  10398  10301   \n",
              "1                 269    300    305    309    316    379    313    367    372   \n",
              "2                  21     24     15     19     20     21     31     19     17   \n",
              "3                   7      7      9      7      9      5      6     11      6   \n",
              "4                   4      4      6      8      9      8      5      3     11   \n",
              "5                  46     42     44     48     54     54     54     57     62   \n",
              "C               14422  14811  15220  15630  16015  16403  16784  17139  17504   \n",
              "X                5937   5944   5979   5996   5890   6004   6051   6215   6163   \n",
              "\n",
              "MONTHS_BALANCE     0   \n",
              "STATUS                 \n",
              "0                8914  \n",
              "1                 309  \n",
              "2                  19  \n",
              "3                   6  \n",
              "4                   5  \n",
              "5                  65  \n",
              "C               17613  \n",
              "X                6925  \n",
              "\n",
              "[8 rows x 61 columns]"
            ],
            "text/html": [
              "\n",
              "  <div id=\"df-edd5a465-33b6-437b-9ad6-772f1ef569f6\">\n",
              "    <div class=\"colab-df-container\">\n",
              "      <div>\n",
              "<style scoped>\n",
              "    .dataframe tbody tr th:only-of-type {\n",
              "        vertical-align: middle;\n",
              "    }\n",
              "\n",
              "    .dataframe tbody tr th {\n",
              "        vertical-align: top;\n",
              "    }\n",
              "\n",
              "    .dataframe thead th {\n",
              "        text-align: right;\n",
              "    }\n",
              "</style>\n",
              "<table border=\"1\" class=\"dataframe\">\n",
              "  <thead>\n",
              "    <tr style=\"text-align: right;\">\n",
              "      <th>MONTHS_BALANCE</th>\n",
              "      <th>-60</th>\n",
              "      <th>-59</th>\n",
              "      <th>-58</th>\n",
              "      <th>-57</th>\n",
              "      <th>-56</th>\n",
              "      <th>-55</th>\n",
              "      <th>-54</th>\n",
              "      <th>-53</th>\n",
              "      <th>-52</th>\n",
              "      <th>-51</th>\n",
              "      <th>...</th>\n",
              "      <th>-9</th>\n",
              "      <th>-8</th>\n",
              "      <th>-7</th>\n",
              "      <th>-6</th>\n",
              "      <th>-5</th>\n",
              "      <th>-4</th>\n",
              "      <th>-3</th>\n",
              "      <th>-2</th>\n",
              "      <th>-1</th>\n",
              "      <th>0</th>\n",
              "    </tr>\n",
              "    <tr>\n",
              "      <th>STATUS</th>\n",
              "      <th></th>\n",
              "      <th></th>\n",
              "      <th></th>\n",
              "      <th></th>\n",
              "      <th></th>\n",
              "      <th></th>\n",
              "      <th></th>\n",
              "      <th></th>\n",
              "      <th></th>\n",
              "      <th></th>\n",
              "      <th></th>\n",
              "      <th></th>\n",
              "      <th></th>\n",
              "      <th></th>\n",
              "      <th></th>\n",
              "      <th></th>\n",
              "      <th></th>\n",
              "      <th></th>\n",
              "      <th></th>\n",
              "      <th></th>\n",
              "      <th></th>\n",
              "    </tr>\n",
              "  </thead>\n",
              "  <tbody>\n",
              "    <tr>\n",
              "      <th>0</th>\n",
              "      <td>230</td>\n",
              "      <td>538</td>\n",
              "      <td>850</td>\n",
              "      <td>1120</td>\n",
              "      <td>1416</td>\n",
              "      <td>1719</td>\n",
              "      <td>1947</td>\n",
              "      <td>2223</td>\n",
              "      <td>2496</td>\n",
              "      <td>2769</td>\n",
              "      <td>...</td>\n",
              "      <td>9566</td>\n",
              "      <td>9752</td>\n",
              "      <td>10062</td>\n",
              "      <td>10279</td>\n",
              "      <td>10568</td>\n",
              "      <td>10491</td>\n",
              "      <td>10610</td>\n",
              "      <td>10398</td>\n",
              "      <td>10301</td>\n",
              "      <td>8914</td>\n",
              "    </tr>\n",
              "    <tr>\n",
              "      <th>1</th>\n",
              "      <td>0</td>\n",
              "      <td>3</td>\n",
              "      <td>11</td>\n",
              "      <td>17</td>\n",
              "      <td>28</td>\n",
              "      <td>37</td>\n",
              "      <td>46</td>\n",
              "      <td>56</td>\n",
              "      <td>66</td>\n",
              "      <td>74</td>\n",
              "      <td>...</td>\n",
              "      <td>269</td>\n",
              "      <td>300</td>\n",
              "      <td>305</td>\n",
              "      <td>309</td>\n",
              "      <td>316</td>\n",
              "      <td>379</td>\n",
              "      <td>313</td>\n",
              "      <td>367</td>\n",
              "      <td>372</td>\n",
              "      <td>309</td>\n",
              "    </tr>\n",
              "    <tr>\n",
              "      <th>2</th>\n",
              "      <td>0</td>\n",
              "      <td>0</td>\n",
              "      <td>0</td>\n",
              "      <td>0</td>\n",
              "      <td>2</td>\n",
              "      <td>1</td>\n",
              "      <td>2</td>\n",
              "      <td>6</td>\n",
              "      <td>5</td>\n",
              "      <td>10</td>\n",
              "      <td>...</td>\n",
              "      <td>21</td>\n",
              "      <td>24</td>\n",
              "      <td>15</td>\n",
              "      <td>19</td>\n",
              "      <td>20</td>\n",
              "      <td>21</td>\n",
              "      <td>31</td>\n",
              "      <td>19</td>\n",
              "      <td>17</td>\n",
              "      <td>19</td>\n",
              "    </tr>\n",
              "    <tr>\n",
              "      <th>3</th>\n",
              "      <td>0</td>\n",
              "      <td>0</td>\n",
              "      <td>0</td>\n",
              "      <td>0</td>\n",
              "      <td>0</td>\n",
              "      <td>2</td>\n",
              "      <td>2</td>\n",
              "      <td>1</td>\n",
              "      <td>2</td>\n",
              "      <td>2</td>\n",
              "      <td>...</td>\n",
              "      <td>7</td>\n",
              "      <td>7</td>\n",
              "      <td>9</td>\n",
              "      <td>7</td>\n",
              "      <td>9</td>\n",
              "      <td>5</td>\n",
              "      <td>6</td>\n",
              "      <td>11</td>\n",
              "      <td>6</td>\n",
              "      <td>6</td>\n",
              "    </tr>\n",
              "    <tr>\n",
              "      <th>4</th>\n",
              "      <td>0</td>\n",
              "      <td>0</td>\n",
              "      <td>0</td>\n",
              "      <td>0</td>\n",
              "      <td>0</td>\n",
              "      <td>0</td>\n",
              "      <td>1</td>\n",
              "      <td>0</td>\n",
              "      <td>1</td>\n",
              "      <td>1</td>\n",
              "      <td>...</td>\n",
              "      <td>4</td>\n",
              "      <td>4</td>\n",
              "      <td>6</td>\n",
              "      <td>8</td>\n",
              "      <td>9</td>\n",
              "      <td>8</td>\n",
              "      <td>5</td>\n",
              "      <td>3</td>\n",
              "      <td>11</td>\n",
              "      <td>5</td>\n",
              "    </tr>\n",
              "    <tr>\n",
              "      <th>5</th>\n",
              "      <td>0</td>\n",
              "      <td>0</td>\n",
              "      <td>0</td>\n",
              "      <td>0</td>\n",
              "      <td>0</td>\n",
              "      <td>0</td>\n",
              "      <td>0</td>\n",
              "      <td>3</td>\n",
              "      <td>3</td>\n",
              "      <td>4</td>\n",
              "      <td>...</td>\n",
              "      <td>46</td>\n",
              "      <td>42</td>\n",
              "      <td>44</td>\n",
              "      <td>48</td>\n",
              "      <td>54</td>\n",
              "      <td>54</td>\n",
              "      <td>54</td>\n",
              "      <td>57</td>\n",
              "      <td>62</td>\n",
              "      <td>65</td>\n",
              "    </tr>\n",
              "    <tr>\n",
              "      <th>C</th>\n",
              "      <td>1</td>\n",
              "      <td>9</td>\n",
              "      <td>24</td>\n",
              "      <td>52</td>\n",
              "      <td>91</td>\n",
              "      <td>148</td>\n",
              "      <td>230</td>\n",
              "      <td>318</td>\n",
              "      <td>435</td>\n",
              "      <td>558</td>\n",
              "      <td>...</td>\n",
              "      <td>14422</td>\n",
              "      <td>14811</td>\n",
              "      <td>15220</td>\n",
              "      <td>15630</td>\n",
              "      <td>16015</td>\n",
              "      <td>16403</td>\n",
              "      <td>16784</td>\n",
              "      <td>17139</td>\n",
              "      <td>17504</td>\n",
              "      <td>17613</td>\n",
              "    </tr>\n",
              "    <tr>\n",
              "      <th>X</th>\n",
              "      <td>184</td>\n",
              "      <td>270</td>\n",
              "      <td>370</td>\n",
              "      <td>460</td>\n",
              "      <td>572</td>\n",
              "      <td>671</td>\n",
              "      <td>800</td>\n",
              "      <td>891</td>\n",
              "      <td>1017</td>\n",
              "      <td>1157</td>\n",
              "      <td>...</td>\n",
              "      <td>5937</td>\n",
              "      <td>5944</td>\n",
              "      <td>5979</td>\n",
              "      <td>5996</td>\n",
              "      <td>5890</td>\n",
              "      <td>6004</td>\n",
              "      <td>6051</td>\n",
              "      <td>6215</td>\n",
              "      <td>6163</td>\n",
              "      <td>6925</td>\n",
              "    </tr>\n",
              "  </tbody>\n",
              "</table>\n",
              "<p>8 rows × 61 columns</p>\n",
              "</div>\n",
              "      <button class=\"colab-df-convert\" onclick=\"convertToInteractive('df-edd5a465-33b6-437b-9ad6-772f1ef569f6')\"\n",
              "              title=\"Convert this dataframe to an interactive table.\"\n",
              "              style=\"display:none;\">\n",
              "        \n",
              "  <svg xmlns=\"http://www.w3.org/2000/svg\" height=\"24px\"viewBox=\"0 0 24 24\"\n",
              "       width=\"24px\">\n",
              "    <path d=\"M0 0h24v24H0V0z\" fill=\"none\"/>\n",
              "    <path d=\"M18.56 5.44l.94 2.06.94-2.06 2.06-.94-2.06-.94-.94-2.06-.94 2.06-2.06.94zm-11 1L8.5 8.5l.94-2.06 2.06-.94-2.06-.94L8.5 2.5l-.94 2.06-2.06.94zm10 10l.94 2.06.94-2.06 2.06-.94-2.06-.94-.94-2.06-.94 2.06-2.06.94z\"/><path d=\"M17.41 7.96l-1.37-1.37c-.4-.4-.92-.59-1.43-.59-.52 0-1.04.2-1.43.59L10.3 9.45l-7.72 7.72c-.78.78-.78 2.05 0 2.83L4 21.41c.39.39.9.59 1.41.59.51 0 1.02-.2 1.41-.59l7.78-7.78 2.81-2.81c.8-.78.8-2.07 0-2.86zM5.41 20L4 18.59l7.72-7.72 1.47 1.35L5.41 20z\"/>\n",
              "  </svg>\n",
              "      </button>\n",
              "      \n",
              "  <style>\n",
              "    .colab-df-container {\n",
              "      display:flex;\n",
              "      flex-wrap:wrap;\n",
              "      gap: 12px;\n",
              "    }\n",
              "\n",
              "    .colab-df-convert {\n",
              "      background-color: #E8F0FE;\n",
              "      border: none;\n",
              "      border-radius: 50%;\n",
              "      cursor: pointer;\n",
              "      display: none;\n",
              "      fill: #1967D2;\n",
              "      height: 32px;\n",
              "      padding: 0 0 0 0;\n",
              "      width: 32px;\n",
              "    }\n",
              "\n",
              "    .colab-df-convert:hover {\n",
              "      background-color: #E2EBFA;\n",
              "      box-shadow: 0px 1px 2px rgba(60, 64, 67, 0.3), 0px 1px 3px 1px rgba(60, 64, 67, 0.15);\n",
              "      fill: #174EA6;\n",
              "    }\n",
              "\n",
              "    [theme=dark] .colab-df-convert {\n",
              "      background-color: #3B4455;\n",
              "      fill: #D2E3FC;\n",
              "    }\n",
              "\n",
              "    [theme=dark] .colab-df-convert:hover {\n",
              "      background-color: #434B5C;\n",
              "      box-shadow: 0px 1px 3px 1px rgba(0, 0, 0, 0.15);\n",
              "      filter: drop-shadow(0px 1px 2px rgba(0, 0, 0, 0.3));\n",
              "      fill: #FFFFFF;\n",
              "    }\n",
              "  </style>\n",
              "\n",
              "      <script>\n",
              "        const buttonEl =\n",
              "          document.querySelector('#df-edd5a465-33b6-437b-9ad6-772f1ef569f6 button.colab-df-convert');\n",
              "        buttonEl.style.display =\n",
              "          google.colab.kernel.accessAllowed ? 'block' : 'none';\n",
              "\n",
              "        async function convertToInteractive(key) {\n",
              "          const element = document.querySelector('#df-edd5a465-33b6-437b-9ad6-772f1ef569f6');\n",
              "          const dataTable =\n",
              "            await google.colab.kernel.invokeFunction('convertToInteractive',\n",
              "                                                     [key], {});\n",
              "          if (!dataTable) return;\n",
              "\n",
              "          const docLinkHtml = 'Like what you see? Visit the ' +\n",
              "            '<a target=\"_blank\" href=https://colab.research.google.com/notebooks/data_table.ipynb>data table notebook</a>'\n",
              "            + ' to learn more about interactive tables.';\n",
              "          element.innerHTML = '';\n",
              "          dataTable['output_type'] = 'display_data';\n",
              "          await google.colab.output.renderOutput(dataTable, element);\n",
              "          const docLink = document.createElement('div');\n",
              "          docLink.innerHTML = docLinkHtml;\n",
              "          element.appendChild(docLink);\n",
              "        }\n",
              "      </script>\n",
              "    </div>\n",
              "  </div>\n",
              "  "
            ]
          },
          "metadata": {},
          "execution_count": 96
        }
      ],
      "source": [
        "pd.crosstab(paid_record['STATUS'], paid_record['MONTHS_BALANCE'])"
      ]
    },
    {
      "cell_type": "markdown",
      "id": "0fce608d",
      "metadata": {
        "id": "0fce608d"
      },
      "source": [
        "# 3. Data Wrangling"
      ]
    },
    {
      "cell_type": "markdown",
      "id": "8c747c2d",
      "metadata": {
        "id": "8c747c2d"
      },
      "source": [
        "## 3.1 paid_record calssification"
      ]
    },
    {
      "cell_type": "markdown",
      "id": "134f5078",
      "metadata": {
        "id": "134f5078"
      },
      "source": [
        "Classification on status:\n",
        "\n",
        "- C = 0\n",
        "- 0 = 1\n",
        "- 1 = 2\n",
        "- 2 = 3\n",
        "- 3 = 4\n",
        "- 4 = 5\n",
        "- 5 = 6\n",
        "- X = X\n"
      ]
    },
    {
      "cell_type": "code",
      "execution_count": 97,
      "id": "b310d169",
      "metadata": {
        "id": "b310d169"
      },
      "outputs": [],
      "source": [
        "#Classification per status\n",
        "new_class = {\n",
        "    'X':0,\n",
        "    'C':0,\n",
        "    \"0\":1,\n",
        "    \"1\":2,\n",
        "    \"2\":3,\n",
        "    \"3\":4,\n",
        "    \"4\":5,\n",
        "    \"5\":6}"
      ]
    },
    {
      "cell_type": "code",
      "execution_count": 98,
      "id": "3b447d36",
      "metadata": {
        "colab": {
          "base_uri": "https://localhost:8080/",
          "height": 423
        },
        "id": "3b447d36",
        "outputId": "c7ba7e77-71ca-4232-d697-e9013c7559a4"
      },
      "outputs": [
        {
          "output_type": "execute_result",
          "data": {
            "text/plain": [
              "         Main_ID  MONTHS_BALANCE TOTAL_IMPAYMENTS\n",
              "0        5001711               0                X\n",
              "1        5001711              -1                0\n",
              "2        5001711              -2                0\n",
              "3        5001711              -3                0\n",
              "4        5001712               0                C\n",
              "...          ...             ...              ...\n",
              "1048570  5150487             -25                C\n",
              "1048571  5150487             -26                C\n",
              "1048572  5150487             -27                C\n",
              "1048573  5150487             -28                C\n",
              "1048574  5150487             -29                C\n",
              "\n",
              "[1048575 rows x 3 columns]"
            ],
            "text/html": [
              "\n",
              "  <div id=\"df-980f24c7-db9b-4101-a816-0af86df03f34\">\n",
              "    <div class=\"colab-df-container\">\n",
              "      <div>\n",
              "<style scoped>\n",
              "    .dataframe tbody tr th:only-of-type {\n",
              "        vertical-align: middle;\n",
              "    }\n",
              "\n",
              "    .dataframe tbody tr th {\n",
              "        vertical-align: top;\n",
              "    }\n",
              "\n",
              "    .dataframe thead th {\n",
              "        text-align: right;\n",
              "    }\n",
              "</style>\n",
              "<table border=\"1\" class=\"dataframe\">\n",
              "  <thead>\n",
              "    <tr style=\"text-align: right;\">\n",
              "      <th></th>\n",
              "      <th>Main_ID</th>\n",
              "      <th>MONTHS_BALANCE</th>\n",
              "      <th>TOTAL_IMPAYMENTS</th>\n",
              "    </tr>\n",
              "  </thead>\n",
              "  <tbody>\n",
              "    <tr>\n",
              "      <th>0</th>\n",
              "      <td>5001711</td>\n",
              "      <td>0</td>\n",
              "      <td>X</td>\n",
              "    </tr>\n",
              "    <tr>\n",
              "      <th>1</th>\n",
              "      <td>5001711</td>\n",
              "      <td>-1</td>\n",
              "      <td>0</td>\n",
              "    </tr>\n",
              "    <tr>\n",
              "      <th>2</th>\n",
              "      <td>5001711</td>\n",
              "      <td>-2</td>\n",
              "      <td>0</td>\n",
              "    </tr>\n",
              "    <tr>\n",
              "      <th>3</th>\n",
              "      <td>5001711</td>\n",
              "      <td>-3</td>\n",
              "      <td>0</td>\n",
              "    </tr>\n",
              "    <tr>\n",
              "      <th>4</th>\n",
              "      <td>5001712</td>\n",
              "      <td>0</td>\n",
              "      <td>C</td>\n",
              "    </tr>\n",
              "    <tr>\n",
              "      <th>...</th>\n",
              "      <td>...</td>\n",
              "      <td>...</td>\n",
              "      <td>...</td>\n",
              "    </tr>\n",
              "    <tr>\n",
              "      <th>1048570</th>\n",
              "      <td>5150487</td>\n",
              "      <td>-25</td>\n",
              "      <td>C</td>\n",
              "    </tr>\n",
              "    <tr>\n",
              "      <th>1048571</th>\n",
              "      <td>5150487</td>\n",
              "      <td>-26</td>\n",
              "      <td>C</td>\n",
              "    </tr>\n",
              "    <tr>\n",
              "      <th>1048572</th>\n",
              "      <td>5150487</td>\n",
              "      <td>-27</td>\n",
              "      <td>C</td>\n",
              "    </tr>\n",
              "    <tr>\n",
              "      <th>1048573</th>\n",
              "      <td>5150487</td>\n",
              "      <td>-28</td>\n",
              "      <td>C</td>\n",
              "    </tr>\n",
              "    <tr>\n",
              "      <th>1048574</th>\n",
              "      <td>5150487</td>\n",
              "      <td>-29</td>\n",
              "      <td>C</td>\n",
              "    </tr>\n",
              "  </tbody>\n",
              "</table>\n",
              "<p>1048575 rows × 3 columns</p>\n",
              "</div>\n",
              "      <button class=\"colab-df-convert\" onclick=\"convertToInteractive('df-980f24c7-db9b-4101-a816-0af86df03f34')\"\n",
              "              title=\"Convert this dataframe to an interactive table.\"\n",
              "              style=\"display:none;\">\n",
              "        \n",
              "  <svg xmlns=\"http://www.w3.org/2000/svg\" height=\"24px\"viewBox=\"0 0 24 24\"\n",
              "       width=\"24px\">\n",
              "    <path d=\"M0 0h24v24H0V0z\" fill=\"none\"/>\n",
              "    <path d=\"M18.56 5.44l.94 2.06.94-2.06 2.06-.94-2.06-.94-.94-2.06-.94 2.06-2.06.94zm-11 1L8.5 8.5l.94-2.06 2.06-.94-2.06-.94L8.5 2.5l-.94 2.06-2.06.94zm10 10l.94 2.06.94-2.06 2.06-.94-2.06-.94-.94-2.06-.94 2.06-2.06.94z\"/><path d=\"M17.41 7.96l-1.37-1.37c-.4-.4-.92-.59-1.43-.59-.52 0-1.04.2-1.43.59L10.3 9.45l-7.72 7.72c-.78.78-.78 2.05 0 2.83L4 21.41c.39.39.9.59 1.41.59.51 0 1.02-.2 1.41-.59l7.78-7.78 2.81-2.81c.8-.78.8-2.07 0-2.86zM5.41 20L4 18.59l7.72-7.72 1.47 1.35L5.41 20z\"/>\n",
              "  </svg>\n",
              "      </button>\n",
              "      \n",
              "  <style>\n",
              "    .colab-df-container {\n",
              "      display:flex;\n",
              "      flex-wrap:wrap;\n",
              "      gap: 12px;\n",
              "    }\n",
              "\n",
              "    .colab-df-convert {\n",
              "      background-color: #E8F0FE;\n",
              "      border: none;\n",
              "      border-radius: 50%;\n",
              "      cursor: pointer;\n",
              "      display: none;\n",
              "      fill: #1967D2;\n",
              "      height: 32px;\n",
              "      padding: 0 0 0 0;\n",
              "      width: 32px;\n",
              "    }\n",
              "\n",
              "    .colab-df-convert:hover {\n",
              "      background-color: #E2EBFA;\n",
              "      box-shadow: 0px 1px 2px rgba(60, 64, 67, 0.3), 0px 1px 3px 1px rgba(60, 64, 67, 0.15);\n",
              "      fill: #174EA6;\n",
              "    }\n",
              "\n",
              "    [theme=dark] .colab-df-convert {\n",
              "      background-color: #3B4455;\n",
              "      fill: #D2E3FC;\n",
              "    }\n",
              "\n",
              "    [theme=dark] .colab-df-convert:hover {\n",
              "      background-color: #434B5C;\n",
              "      box-shadow: 0px 1px 3px 1px rgba(0, 0, 0, 0.15);\n",
              "      filter: drop-shadow(0px 1px 2px rgba(0, 0, 0, 0.3));\n",
              "      fill: #FFFFFF;\n",
              "    }\n",
              "  </style>\n",
              "\n",
              "      <script>\n",
              "        const buttonEl =\n",
              "          document.querySelector('#df-980f24c7-db9b-4101-a816-0af86df03f34 button.colab-df-convert');\n",
              "        buttonEl.style.display =\n",
              "          google.colab.kernel.accessAllowed ? 'block' : 'none';\n",
              "\n",
              "        async function convertToInteractive(key) {\n",
              "          const element = document.querySelector('#df-980f24c7-db9b-4101-a816-0af86df03f34');\n",
              "          const dataTable =\n",
              "            await google.colab.kernel.invokeFunction('convertToInteractive',\n",
              "                                                     [key], {});\n",
              "          if (!dataTable) return;\n",
              "\n",
              "          const docLinkHtml = 'Like what you see? Visit the ' +\n",
              "            '<a target=\"_blank\" href=https://colab.research.google.com/notebooks/data_table.ipynb>data table notebook</a>'\n",
              "            + ' to learn more about interactive tables.';\n",
              "          element.innerHTML = '';\n",
              "          dataTable['output_type'] = 'display_data';\n",
              "          await google.colab.output.renderOutput(dataTable, element);\n",
              "          const docLink = document.createElement('div');\n",
              "          docLink.innerHTML = docLinkHtml;\n",
              "          element.appendChild(docLink);\n",
              "        }\n",
              "      </script>\n",
              "    </div>\n",
              "  </div>\n",
              "  "
            ]
          },
          "metadata": {},
          "execution_count": 98
        }
      ],
      "source": [
        "#Copy the original dataset\n",
        "n_paid_record = paid_record\n",
        "\n",
        "#Rename columns\n",
        "n_paid_record.columns = ['Main_ID', 'MONTHS_BALANCE', 'TOTAL_IMPAYMENTS']\n",
        "\n",
        "n_paid_record"
      ]
    },
    {
      "cell_type": "code",
      "execution_count": 99,
      "id": "0fb26a01",
      "metadata": {
        "id": "0fb26a01"
      },
      "outputs": [],
      "source": [
        "#Apply changes\n",
        "n_paid_record.TOTAL_IMPAYMENTS = n_paid_record.TOTAL_IMPAYMENTS.replace(new_class)"
      ]
    },
    {
      "cell_type": "code",
      "execution_count": 100,
      "id": "fb03c49c",
      "metadata": {
        "colab": {
          "base_uri": "https://localhost:8080/",
          "height": 423
        },
        "id": "fb03c49c",
        "outputId": "e484defd-2405-44c6-ea98-ca3e10ac02dc"
      },
      "outputs": [
        {
          "output_type": "execute_result",
          "data": {
            "text/plain": [
              "         Main_ID  MONTHS_BALANCE  TOTAL_IMPAYMENTS\n",
              "0        5001711               0                 0\n",
              "1        5001711              -1                 1\n",
              "2        5001711              -2                 1\n",
              "3        5001711              -3                 1\n",
              "4        5001712               0                 0\n",
              "...          ...             ...               ...\n",
              "1048570  5150487             -25                 0\n",
              "1048571  5150487             -26                 0\n",
              "1048572  5150487             -27                 0\n",
              "1048573  5150487             -28                 0\n",
              "1048574  5150487             -29                 0\n",
              "\n",
              "[1048575 rows x 3 columns]"
            ],
            "text/html": [
              "\n",
              "  <div id=\"df-51c08bdf-e8df-4188-8e4f-5120e16f64ce\">\n",
              "    <div class=\"colab-df-container\">\n",
              "      <div>\n",
              "<style scoped>\n",
              "    .dataframe tbody tr th:only-of-type {\n",
              "        vertical-align: middle;\n",
              "    }\n",
              "\n",
              "    .dataframe tbody tr th {\n",
              "        vertical-align: top;\n",
              "    }\n",
              "\n",
              "    .dataframe thead th {\n",
              "        text-align: right;\n",
              "    }\n",
              "</style>\n",
              "<table border=\"1\" class=\"dataframe\">\n",
              "  <thead>\n",
              "    <tr style=\"text-align: right;\">\n",
              "      <th></th>\n",
              "      <th>Main_ID</th>\n",
              "      <th>MONTHS_BALANCE</th>\n",
              "      <th>TOTAL_IMPAYMENTS</th>\n",
              "    </tr>\n",
              "  </thead>\n",
              "  <tbody>\n",
              "    <tr>\n",
              "      <th>0</th>\n",
              "      <td>5001711</td>\n",
              "      <td>0</td>\n",
              "      <td>0</td>\n",
              "    </tr>\n",
              "    <tr>\n",
              "      <th>1</th>\n",
              "      <td>5001711</td>\n",
              "      <td>-1</td>\n",
              "      <td>1</td>\n",
              "    </tr>\n",
              "    <tr>\n",
              "      <th>2</th>\n",
              "      <td>5001711</td>\n",
              "      <td>-2</td>\n",
              "      <td>1</td>\n",
              "    </tr>\n",
              "    <tr>\n",
              "      <th>3</th>\n",
              "      <td>5001711</td>\n",
              "      <td>-3</td>\n",
              "      <td>1</td>\n",
              "    </tr>\n",
              "    <tr>\n",
              "      <th>4</th>\n",
              "      <td>5001712</td>\n",
              "      <td>0</td>\n",
              "      <td>0</td>\n",
              "    </tr>\n",
              "    <tr>\n",
              "      <th>...</th>\n",
              "      <td>...</td>\n",
              "      <td>...</td>\n",
              "      <td>...</td>\n",
              "    </tr>\n",
              "    <tr>\n",
              "      <th>1048570</th>\n",
              "      <td>5150487</td>\n",
              "      <td>-25</td>\n",
              "      <td>0</td>\n",
              "    </tr>\n",
              "    <tr>\n",
              "      <th>1048571</th>\n",
              "      <td>5150487</td>\n",
              "      <td>-26</td>\n",
              "      <td>0</td>\n",
              "    </tr>\n",
              "    <tr>\n",
              "      <th>1048572</th>\n",
              "      <td>5150487</td>\n",
              "      <td>-27</td>\n",
              "      <td>0</td>\n",
              "    </tr>\n",
              "    <tr>\n",
              "      <th>1048573</th>\n",
              "      <td>5150487</td>\n",
              "      <td>-28</td>\n",
              "      <td>0</td>\n",
              "    </tr>\n",
              "    <tr>\n",
              "      <th>1048574</th>\n",
              "      <td>5150487</td>\n",
              "      <td>-29</td>\n",
              "      <td>0</td>\n",
              "    </tr>\n",
              "  </tbody>\n",
              "</table>\n",
              "<p>1048575 rows × 3 columns</p>\n",
              "</div>\n",
              "      <button class=\"colab-df-convert\" onclick=\"convertToInteractive('df-51c08bdf-e8df-4188-8e4f-5120e16f64ce')\"\n",
              "              title=\"Convert this dataframe to an interactive table.\"\n",
              "              style=\"display:none;\">\n",
              "        \n",
              "  <svg xmlns=\"http://www.w3.org/2000/svg\" height=\"24px\"viewBox=\"0 0 24 24\"\n",
              "       width=\"24px\">\n",
              "    <path d=\"M0 0h24v24H0V0z\" fill=\"none\"/>\n",
              "    <path d=\"M18.56 5.44l.94 2.06.94-2.06 2.06-.94-2.06-.94-.94-2.06-.94 2.06-2.06.94zm-11 1L8.5 8.5l.94-2.06 2.06-.94-2.06-.94L8.5 2.5l-.94 2.06-2.06.94zm10 10l.94 2.06.94-2.06 2.06-.94-2.06-.94-.94-2.06-.94 2.06-2.06.94z\"/><path d=\"M17.41 7.96l-1.37-1.37c-.4-.4-.92-.59-1.43-.59-.52 0-1.04.2-1.43.59L10.3 9.45l-7.72 7.72c-.78.78-.78 2.05 0 2.83L4 21.41c.39.39.9.59 1.41.59.51 0 1.02-.2 1.41-.59l7.78-7.78 2.81-2.81c.8-.78.8-2.07 0-2.86zM5.41 20L4 18.59l7.72-7.72 1.47 1.35L5.41 20z\"/>\n",
              "  </svg>\n",
              "      </button>\n",
              "      \n",
              "  <style>\n",
              "    .colab-df-container {\n",
              "      display:flex;\n",
              "      flex-wrap:wrap;\n",
              "      gap: 12px;\n",
              "    }\n",
              "\n",
              "    .colab-df-convert {\n",
              "      background-color: #E8F0FE;\n",
              "      border: none;\n",
              "      border-radius: 50%;\n",
              "      cursor: pointer;\n",
              "      display: none;\n",
              "      fill: #1967D2;\n",
              "      height: 32px;\n",
              "      padding: 0 0 0 0;\n",
              "      width: 32px;\n",
              "    }\n",
              "\n",
              "    .colab-df-convert:hover {\n",
              "      background-color: #E2EBFA;\n",
              "      box-shadow: 0px 1px 2px rgba(60, 64, 67, 0.3), 0px 1px 3px 1px rgba(60, 64, 67, 0.15);\n",
              "      fill: #174EA6;\n",
              "    }\n",
              "\n",
              "    [theme=dark] .colab-df-convert {\n",
              "      background-color: #3B4455;\n",
              "      fill: #D2E3FC;\n",
              "    }\n",
              "\n",
              "    [theme=dark] .colab-df-convert:hover {\n",
              "      background-color: #434B5C;\n",
              "      box-shadow: 0px 1px 3px 1px rgba(0, 0, 0, 0.15);\n",
              "      filter: drop-shadow(0px 1px 2px rgba(0, 0, 0, 0.3));\n",
              "      fill: #FFFFFF;\n",
              "    }\n",
              "  </style>\n",
              "\n",
              "      <script>\n",
              "        const buttonEl =\n",
              "          document.querySelector('#df-51c08bdf-e8df-4188-8e4f-5120e16f64ce button.colab-df-convert');\n",
              "        buttonEl.style.display =\n",
              "          google.colab.kernel.accessAllowed ? 'block' : 'none';\n",
              "\n",
              "        async function convertToInteractive(key) {\n",
              "          const element = document.querySelector('#df-51c08bdf-e8df-4188-8e4f-5120e16f64ce');\n",
              "          const dataTable =\n",
              "            await google.colab.kernel.invokeFunction('convertToInteractive',\n",
              "                                                     [key], {});\n",
              "          if (!dataTable) return;\n",
              "\n",
              "          const docLinkHtml = 'Like what you see? Visit the ' +\n",
              "            '<a target=\"_blank\" href=https://colab.research.google.com/notebooks/data_table.ipynb>data table notebook</a>'\n",
              "            + ' to learn more about interactive tables.';\n",
              "          element.innerHTML = '';\n",
              "          dataTable['output_type'] = 'display_data';\n",
              "          await google.colab.output.renderOutput(dataTable, element);\n",
              "          const docLink = document.createElement('div');\n",
              "          docLink.innerHTML = docLinkHtml;\n",
              "          element.appendChild(docLink);\n",
              "        }\n",
              "      </script>\n",
              "    </div>\n",
              "  </div>\n",
              "  "
            ]
          },
          "metadata": {},
          "execution_count": 100
        }
      ],
      "source": [
        "n_paid_record"
      ]
    },
    {
      "cell_type": "code",
      "execution_count": 101,
      "id": "ab7d0c4c",
      "metadata": {
        "id": "ab7d0c4c"
      },
      "outputs": [],
      "source": [
        "new_data = n_paid_record.groupby('Main_ID').sum()[['TOTAL_IMPAYMENTS']]"
      ]
    },
    {
      "cell_type": "code",
      "execution_count": 102,
      "id": "c458cd08",
      "metadata": {
        "colab": {
          "base_uri": "https://localhost:8080/"
        },
        "id": "c458cd08",
        "outputId": "d36382f5-4240-4488-cce2-60c282679025"
      },
      "outputs": [
        {
          "output_type": "execute_result",
          "data": {
            "text/plain": [
              "0    651261\n",
              "1    383120\n",
              "2     11090\n",
              "3       868\n",
              "4       320\n",
              "5       223\n",
              "6      1693\n",
              "Name: TOTAL_IMPAYMENTS, dtype: int64"
            ]
          },
          "metadata": {},
          "execution_count": 102
        }
      ],
      "source": [
        "n_paid_record.TOTAL_IMPAYMENTS.value_counts().sort_index()"
      ]
    },
    {
      "cell_type": "markdown",
      "id": "b5b7f004",
      "metadata": {
        "id": "b5b7f004"
      },
      "source": [
        "## 3.2 Dataset merge"
      ]
    },
    {
      "cell_type": "markdown",
      "id": "6f1b1f69",
      "metadata": {
        "id": "6f1b1f69"
      },
      "source": [
        "Join all datasets into one"
      ]
    },
    {
      "cell_type": "code",
      "execution_count": 103,
      "id": "6b0a6957",
      "metadata": {
        "id": "6b0a6957"
      },
      "outputs": [],
      "source": [
        "# Join columns Main_ID and Letter\n",
        "main['New_ID'] = main['Main_ID'].astype(str) + main['Letter'].astype(str)"
      ]
    },
    {
      "cell_type": "code",
      "execution_count": 104,
      "id": "28f7723e",
      "metadata": {
        "id": "28f7723e"
      },
      "outputs": [],
      "source": [
        "#Merge datasets into one\n",
        "main = main.merge(address, how='left', on='New_ID')\n",
        "main = main.merge(new_data, how='left', on='Main_ID')"
      ]
    },
    {
      "cell_type": "markdown",
      "id": "02892e90",
      "metadata": {
        "id": "02892e90"
      },
      "source": [
        "__Main Dataset definition__\n",
        "\n",
        "*After Merge*"
      ]
    },
    {
      "cell_type": "code",
      "execution_count": 105,
      "id": "8c8cfa2e",
      "metadata": {
        "id": "8c8cfa2e"
      },
      "outputs": [],
      "source": [
        "#Column filtering\n",
        "main = main[['FLAG_OWN_CAR', 'FLAG_OWN_REALTY',\n",
        "       'AMT_INCOME_TOTAL', 'DAYS_EMPLOYED',\n",
        "       'FLAG_WORK_PHONE', 'CNT_FAM_MEMBERS', 'DAYS_BIRTH_CLEAN', 'TOTAL_IMPAYMENTS']]"
      ]
    },
    {
      "cell_type": "code",
      "execution_count": 106,
      "id": "8e8baca6",
      "metadata": {
        "scrolled": true,
        "id": "8e8baca6"
      },
      "outputs": [],
      "source": [
        "#Convert AGE\n",
        "main['Age'] = (pd.to_datetime(date.today()) -  pd.to_datetime(main['DAYS_BIRTH_CLEAN'])).dt.days / 365.25"
      ]
    },
    {
      "cell_type": "code",
      "execution_count": 107,
      "id": "3ddd2a33",
      "metadata": {
        "scrolled": true,
        "colab": {
          "base_uri": "https://localhost:8080/"
        },
        "id": "3ddd2a33",
        "outputId": "248d09cc-9830-41aa-9660-0a9ec32cf832"
      },
      "outputs": [
        {
          "output_type": "execute_result",
          "data": {
            "text/plain": [
              "<bound method DataFrame.info of        FLAG_OWN_CAR FLAG_OWN_REALTY  AMT_INCOME_TOTAL  DAYS_EMPLOYED  \\\n",
              "0                 Y               Y          427500.0        -4542.0   \n",
              "1                 Y               Y          427500.0        -4542.0   \n",
              "2                 Y               Y          112500.0        -1134.0   \n",
              "3                 N               Y          270000.0        -3051.0   \n",
              "4               NaN               Y          270000.0        -3051.0   \n",
              "...             ...             ...               ...            ...   \n",
              "438762            N               N          130500.0        -3331.0   \n",
              "438763            Y               Y          180000.0        -5941.0   \n",
              "438764            N               Y          148500.0         -880.0   \n",
              "438765            N             NaN          180000.0         -885.0   \n",
              "438766            N               Y          225000.0         -783.0   \n",
              "\n",
              "        FLAG_WORK_PHONE  CNT_FAM_MEMBERS DAYS_BIRTH_CLEAN  TOTAL_IMPAYMENTS  \\\n",
              "0                   1.0              2.0       09/04/1990               3.0   \n",
              "1                   1.0              2.0       09/04/1990               3.0   \n",
              "2                   0.0              2.0       06/05/1964               7.0   \n",
              "3                   0.0              1.0       26/10/1970               2.0   \n",
              "4                   0.0              1.0       26/10/1970               0.0   \n",
              "...                 ...              ...              ...               ...   \n",
              "438762              1.0              2.0       04/06/1991               NaN   \n",
              "438763              0.0              2.0       05/01/1978               NaN   \n",
              "438764              0.0              2.0       07/03/1974               NaN   \n",
              "438765              1.0              2.0       08/03/1965               NaN   \n",
              "438766              0.0              3.0       24/11/1989               6.0   \n",
              "\n",
              "              Age  \n",
              "0       32.490075  \n",
              "1       32.490075  \n",
              "2       58.737851  \n",
              "3       52.347707  \n",
              "4       52.347707  \n",
              "...           ...  \n",
              "438762  31.904175  \n",
              "438763  44.835044  \n",
              "438764  48.662560  \n",
              "438765  57.577002  \n",
              "438766  33.267625  \n",
              "\n",
              "[438767 rows x 9 columns]>"
            ]
          },
          "metadata": {},
          "execution_count": 107
        }
      ],
      "source": [
        "main.info"
      ]
    },
    {
      "cell_type": "code",
      "execution_count": 108,
      "id": "069c2dab",
      "metadata": {
        "scrolled": false,
        "colab": {
          "base_uri": "https://localhost:8080/"
        },
        "id": "069c2dab",
        "outputId": "f6fe9e41-105b-4bfb-f7a1-f232fb36d76f"
      },
      "outputs": [
        {
          "output_type": "execute_result",
          "data": {
            "text/plain": [
              "0.0      4484\n",
              "6.0      3160\n",
              "4.0      2502\n",
              "5.0      2417\n",
              "3.0      2265\n",
              "         ... \n",
              "116.0       1\n",
              "278.0       1\n",
              "266.0       1\n",
              "168.0       1\n",
              "149.0       1\n",
              "Name: TOTAL_IMPAYMENTS, Length: 113, dtype: int64"
            ]
          },
          "metadata": {},
          "execution_count": 108
        }
      ],
      "source": [
        "main.TOTAL_IMPAYMENTS.value_counts()"
      ]
    },
    {
      "cell_type": "markdown",
      "id": "736bbece",
      "metadata": {
        "id": "736bbece"
      },
      "source": [
        "# 4. Cut"
      ]
    },
    {
      "cell_type": "markdown",
      "id": "b01fe872",
      "metadata": {
        "id": "b01fe872"
      },
      "source": [
        "Define parameters to implement models"
      ]
    },
    {
      "cell_type": "code",
      "execution_count": 109,
      "id": "a2cd11a1",
      "metadata": {
        "colab": {
          "base_uri": "https://localhost:8080/",
          "height": 423
        },
        "id": "a2cd11a1",
        "outputId": "903b82bf-25ef-47c7-b504-596c1c915d18"
      },
      "outputs": [
        {
          "output_type": "execute_result",
          "data": {
            "text/plain": [
              "        AMT_INCOME_TOTAL  DAYS_EMPLOYED  TOTAL_IMPAYMENTS\n",
              "0               427500.0        -4542.0               3.0\n",
              "1               427500.0        -4542.0               3.0\n",
              "2               112500.0        -1134.0               7.0\n",
              "3               270000.0        -3051.0               2.0\n",
              "4               270000.0        -3051.0               0.0\n",
              "...                  ...            ...               ...\n",
              "438762          130500.0        -3331.0               NaN\n",
              "438763          180000.0        -5941.0               NaN\n",
              "438764          148500.0         -880.0               NaN\n",
              "438765          180000.0         -885.0               NaN\n",
              "438766          225000.0         -783.0               6.0\n",
              "\n",
              "[438767 rows x 3 columns]"
            ],
            "text/html": [
              "\n",
              "  <div id=\"df-2c6037e8-ffaf-4db1-a666-4e4433f7c8e0\">\n",
              "    <div class=\"colab-df-container\">\n",
              "      <div>\n",
              "<style scoped>\n",
              "    .dataframe tbody tr th:only-of-type {\n",
              "        vertical-align: middle;\n",
              "    }\n",
              "\n",
              "    .dataframe tbody tr th {\n",
              "        vertical-align: top;\n",
              "    }\n",
              "\n",
              "    .dataframe thead th {\n",
              "        text-align: right;\n",
              "    }\n",
              "</style>\n",
              "<table border=\"1\" class=\"dataframe\">\n",
              "  <thead>\n",
              "    <tr style=\"text-align: right;\">\n",
              "      <th></th>\n",
              "      <th>AMT_INCOME_TOTAL</th>\n",
              "      <th>DAYS_EMPLOYED</th>\n",
              "      <th>TOTAL_IMPAYMENTS</th>\n",
              "    </tr>\n",
              "  </thead>\n",
              "  <tbody>\n",
              "    <tr>\n",
              "      <th>0</th>\n",
              "      <td>427500.0</td>\n",
              "      <td>-4542.0</td>\n",
              "      <td>3.0</td>\n",
              "    </tr>\n",
              "    <tr>\n",
              "      <th>1</th>\n",
              "      <td>427500.0</td>\n",
              "      <td>-4542.0</td>\n",
              "      <td>3.0</td>\n",
              "    </tr>\n",
              "    <tr>\n",
              "      <th>2</th>\n",
              "      <td>112500.0</td>\n",
              "      <td>-1134.0</td>\n",
              "      <td>7.0</td>\n",
              "    </tr>\n",
              "    <tr>\n",
              "      <th>3</th>\n",
              "      <td>270000.0</td>\n",
              "      <td>-3051.0</td>\n",
              "      <td>2.0</td>\n",
              "    </tr>\n",
              "    <tr>\n",
              "      <th>4</th>\n",
              "      <td>270000.0</td>\n",
              "      <td>-3051.0</td>\n",
              "      <td>0.0</td>\n",
              "    </tr>\n",
              "    <tr>\n",
              "      <th>...</th>\n",
              "      <td>...</td>\n",
              "      <td>...</td>\n",
              "      <td>...</td>\n",
              "    </tr>\n",
              "    <tr>\n",
              "      <th>438762</th>\n",
              "      <td>130500.0</td>\n",
              "      <td>-3331.0</td>\n",
              "      <td>NaN</td>\n",
              "    </tr>\n",
              "    <tr>\n",
              "      <th>438763</th>\n",
              "      <td>180000.0</td>\n",
              "      <td>-5941.0</td>\n",
              "      <td>NaN</td>\n",
              "    </tr>\n",
              "    <tr>\n",
              "      <th>438764</th>\n",
              "      <td>148500.0</td>\n",
              "      <td>-880.0</td>\n",
              "      <td>NaN</td>\n",
              "    </tr>\n",
              "    <tr>\n",
              "      <th>438765</th>\n",
              "      <td>180000.0</td>\n",
              "      <td>-885.0</td>\n",
              "      <td>NaN</td>\n",
              "    </tr>\n",
              "    <tr>\n",
              "      <th>438766</th>\n",
              "      <td>225000.0</td>\n",
              "      <td>-783.0</td>\n",
              "      <td>6.0</td>\n",
              "    </tr>\n",
              "  </tbody>\n",
              "</table>\n",
              "<p>438767 rows × 3 columns</p>\n",
              "</div>\n",
              "      <button class=\"colab-df-convert\" onclick=\"convertToInteractive('df-2c6037e8-ffaf-4db1-a666-4e4433f7c8e0')\"\n",
              "              title=\"Convert this dataframe to an interactive table.\"\n",
              "              style=\"display:none;\">\n",
              "        \n",
              "  <svg xmlns=\"http://www.w3.org/2000/svg\" height=\"24px\"viewBox=\"0 0 24 24\"\n",
              "       width=\"24px\">\n",
              "    <path d=\"M0 0h24v24H0V0z\" fill=\"none\"/>\n",
              "    <path d=\"M18.56 5.44l.94 2.06.94-2.06 2.06-.94-2.06-.94-.94-2.06-.94 2.06-2.06.94zm-11 1L8.5 8.5l.94-2.06 2.06-.94-2.06-.94L8.5 2.5l-.94 2.06-2.06.94zm10 10l.94 2.06.94-2.06 2.06-.94-2.06-.94-.94-2.06-.94 2.06-2.06.94z\"/><path d=\"M17.41 7.96l-1.37-1.37c-.4-.4-.92-.59-1.43-.59-.52 0-1.04.2-1.43.59L10.3 9.45l-7.72 7.72c-.78.78-.78 2.05 0 2.83L4 21.41c.39.39.9.59 1.41.59.51 0 1.02-.2 1.41-.59l7.78-7.78 2.81-2.81c.8-.78.8-2.07 0-2.86zM5.41 20L4 18.59l7.72-7.72 1.47 1.35L5.41 20z\"/>\n",
              "  </svg>\n",
              "      </button>\n",
              "      \n",
              "  <style>\n",
              "    .colab-df-container {\n",
              "      display:flex;\n",
              "      flex-wrap:wrap;\n",
              "      gap: 12px;\n",
              "    }\n",
              "\n",
              "    .colab-df-convert {\n",
              "      background-color: #E8F0FE;\n",
              "      border: none;\n",
              "      border-radius: 50%;\n",
              "      cursor: pointer;\n",
              "      display: none;\n",
              "      fill: #1967D2;\n",
              "      height: 32px;\n",
              "      padding: 0 0 0 0;\n",
              "      width: 32px;\n",
              "    }\n",
              "\n",
              "    .colab-df-convert:hover {\n",
              "      background-color: #E2EBFA;\n",
              "      box-shadow: 0px 1px 2px rgba(60, 64, 67, 0.3), 0px 1px 3px 1px rgba(60, 64, 67, 0.15);\n",
              "      fill: #174EA6;\n",
              "    }\n",
              "\n",
              "    [theme=dark] .colab-df-convert {\n",
              "      background-color: #3B4455;\n",
              "      fill: #D2E3FC;\n",
              "    }\n",
              "\n",
              "    [theme=dark] .colab-df-convert:hover {\n",
              "      background-color: #434B5C;\n",
              "      box-shadow: 0px 1px 3px 1px rgba(0, 0, 0, 0.15);\n",
              "      filter: drop-shadow(0px 1px 2px rgba(0, 0, 0, 0.3));\n",
              "      fill: #FFFFFF;\n",
              "    }\n",
              "  </style>\n",
              "\n",
              "      <script>\n",
              "        const buttonEl =\n",
              "          document.querySelector('#df-2c6037e8-ffaf-4db1-a666-4e4433f7c8e0 button.colab-df-convert');\n",
              "        buttonEl.style.display =\n",
              "          google.colab.kernel.accessAllowed ? 'block' : 'none';\n",
              "\n",
              "        async function convertToInteractive(key) {\n",
              "          const element = document.querySelector('#df-2c6037e8-ffaf-4db1-a666-4e4433f7c8e0');\n",
              "          const dataTable =\n",
              "            await google.colab.kernel.invokeFunction('convertToInteractive',\n",
              "                                                     [key], {});\n",
              "          if (!dataTable) return;\n",
              "\n",
              "          const docLinkHtml = 'Like what you see? Visit the ' +\n",
              "            '<a target=\"_blank\" href=https://colab.research.google.com/notebooks/data_table.ipynb>data table notebook</a>'\n",
              "            + ' to learn more about interactive tables.';\n",
              "          element.innerHTML = '';\n",
              "          dataTable['output_type'] = 'display_data';\n",
              "          await google.colab.output.renderOutput(dataTable, element);\n",
              "          const docLink = document.createElement('div');\n",
              "          docLink.innerHTML = docLinkHtml;\n",
              "          element.appendChild(docLink);\n",
              "        }\n",
              "      </script>\n",
              "    </div>\n",
              "  </div>\n",
              "  "
            ]
          },
          "metadata": {},
          "execution_count": 109
        }
      ],
      "source": [
        "main_var = main[['AMT_INCOME_TOTAL','DAYS_EMPLOYED','TOTAL_IMPAYMENTS']]\n",
        "main_var"
      ]
    },
    {
      "cell_type": "markdown",
      "id": "ad2fdc85",
      "metadata": {
        "id": "ad2fdc85"
      },
      "source": [
        "## 4.1 Visualize data"
      ]
    },
    {
      "cell_type": "code",
      "execution_count": 110,
      "id": "1238fad9",
      "metadata": {
        "colab": {
          "base_uri": "https://localhost:8080/",
          "height": 542
        },
        "id": "1238fad9",
        "outputId": "86d94dad-f8d1-40ae-f625-afafbb5e8e5d"
      },
      "outputs": [
        {
          "output_type": "display_data",
          "data": {
            "text/html": [
              "<html>\n",
              "<head><meta charset=\"utf-8\" /></head>\n",
              "<body>\n",
              "    <div>            <script src=\"https://cdnjs.cloudflare.com/ajax/libs/mathjax/2.7.5/MathJax.js?config=TeX-AMS-MML_SVG\"></script><script type=\"text/javascript\">if (window.MathJax) {MathJax.Hub.Config({SVG: {font: \"STIX-Web\"}});}</script>                <script type=\"text/javascript\">window.PlotlyConfig = {MathJaxConfig: 'local'};</script>\n",
              "        <script src=\"https://cdn.plot.ly/plotly-2.8.3.min.js\"></script>                <div id=\"b52e61f4-02f1-4bae-ade5-9bea979d08a8\" class=\"plotly-graph-div\" style=\"height:525px; width:100%;\"></div>            <script type=\"text/javascript\">                                    window.PLOTLYENV=window.PLOTLYENV || {};                                    if (document.getElementById(\"b52e61f4-02f1-4bae-ade5-9bea979d08a8\")) {                    Plotly.newPlot(                        \"b52e61f4-02f1-4bae-ade5-9bea979d08a8\",                        [{\"alignmentgroup\":\"True\",\"bingroup\":\"x\",\"hovertemplate\":\"AMT_INCOME_TOTAL=%{x}<br>count=%{y}<extra></extra>\",\"legendgroup\":\"\",\"marker\":{\"color\":\"#636efa\",\"pattern\":{\"shape\":\"\"}},\"name\":\"\",\"offsetgroup\":\"\",\"orientation\":\"v\",\"showlegend\":false,\"x\":[427500.0,427500.0,112500.0,270000.0,270000.0,270000.0,270000.0,283500.0,283500.0,283500.0,270000.0,270000.0,270000.0,135000.0,135000.0,135000.0,135000.0,135000.0,135000.0,130500.0,130500.0,157500.0,157500.0,157500.0,112500.0,112500.0,112500.0,270000.0,270000.0,405000.0,405000.0,405000.0,405000.0,405000.0,405000.0,112500.0,112500.0,null,112500.0,112500.0,112500.0,112500.0,112500.0,112500.0,112500.0,112500.0,135000.0,135000.0,135000.0,135000.0,135000.0,135000.0,135000.0,135000.0,135000.0,135000.0,135000.0,135000.0,135000.0,135000.0,135000.0,135000.0,211500.0,211500.0,360000.0,360000.0,126000.0,126000.0,126000.0,126000.0,126000.0,126000.0,126000.0,126000.0,null,126000.0,315000.0,247500.0,247500.0,247500.0,247500.0,297000.0,297000.0,297000.0,297000.0,297000.0,297000.0,297000.0,297000.0,297000.0,297000.0,297000.0,297000.0,null,297000.0,297000.0,297000.0,297000.0,297000.0,null,297000.0,297000.0,297000.0,297000.0,297000.0,null,297000.0,297000.0,297000.0,297000.0,297000.0,297000.0,297000.0,297000.0,297000.0,297000.0,null,297000.0,297000.0,297000.0,297000.0,297000.0,297000.0,297000.0,null,297000.0,297000.0,297000.0,null,297000.0,297000.0,297000.0,297000.0,297000.0,297000.0,157500.0,157500.0,157500.0,157500.0,157500.0,135000.0,135000.0,135000.0,135000.0,225000.0,225000.0,225000.0,225000.0,135000.0,135000.0,135000.0,135000.0,135000.0,135000.0,135000.0,135000.0,157500.0,157500.0,157500.0,null,112500.0,112500.0,112500.0,112500.0,112500.0,112500.0,112500.0,112500.0,112500.0,112500.0,112500.0,112500.0,112500.0,112500.0,270000.0,270000.0,270000.0,270000.0,270000.0,270000.0,270000.0,270000.0,270000.0,157500.0,157500.0,166500.0,166500.0,166500.0,166500.0,null,166500.0,166500.0,166500.0,166500.0,166500.0,166500.0,166500.0,166500.0,166500.0,216000.0,216000.0,216000.0,216000.0,216000.0,216000.0,216000.0,216000.0,216000.0,216000.0,270000.0,270000.0,225000.0,225000.0,315000.0,315000.0,315000.0,255150.0,255150.0,255150.0,255150.0,255150.0,255150.0,157500.0,157500.0,148500.0,148500.0,148500.0,148500.0,148500.0,148500.0,148500.0,202500.0,202500.0,202500.0,202500.0,202500.0,202500.0,202500.0,112500.0,94500.0,315000.0,315000.0,315000.0,315000.0,315000.0,315000.0,315000.0,315000.0,315000.0,270000.0,270000.0,270000.0,450000.0,450000.0,180000.0,112500.0,112500.0,112500.0,90000.0,90000.0,90000.0,90000.0,202500.0,null,202500.0,202500.0,247500.0,765000.0,765000.0,765000.0,765000.0,270000.0,270000.0,270000.0,315000.0,315000.0,157500.0,157500.0,157500.0,157500.0,157500.0,360000.0,360000.0,112500.0,157500.0,157500.0,157500.0,157500.0,157500.0,157500.0,157500.0,157500.0,157500.0,157500.0,157500.0,157500.0,157500.0,157500.0,157500.0,382500.0,382500.0,382500.0,382500.0,382500.0,382500.0,382500.0,382500.0,135000.0,135000.0,225000.0,225000.0,315000.0,315000.0,315000.0,315000.0,315000.0,315000.0,315000.0,180000.0,180000.0,180000.0,180000.0,180000.0,180000.0,180000.0,180000.0,180000.0,180000.0,180000.0,180000.0,157500.0,157500.0,157500.0,157500.0,157500.0,157500.0,144000.0,229500.0,229500.0,229500.0,229500.0,229500.0,229500.0,229500.0,229500.0,270000.0,270000.0,270000.0,270000.0,270000.0,270000.0,270000.0,270000.0,292500.0,292500.0,292500.0,292500.0,292500.0,292500.0,292500.0,292500.0,292500.0,292500.0,292500.0,292500.0,292500.0,292500.0,292500.0,270000.0,270000.0,270000.0,null,270000.0,270000.0,225000.0,225000.0,225000.0,225000.0,225000.0,225000.0,225000.0,225000.0,225000.0,225000.0,225000.0,225000.0,225000.0,225000.0,157500.0,157500.0,157500.0,157500.0,157500.0,74250.0,74250.0,74250.0,135000.0,135000.0,135000.0,135000.0,135000.0,135000.0,135000.0,135000.0,135000.0,144000.0,144000.0,144000.0,202500.0,202500.0,202500.0,202500.0,202500.0,40500.0,337500.0,337500.0,337500.0,337500.0,337500.0,180000.0,180000.0,180000.0,180000.0,180000.0,180000.0,180000.0,130500.0,130500.0,130500.0,130500.0,130500.0,130500.0,130500.0,130500.0,130500.0,130500.0,130500.0,130500.0,130500.0,130500.0,144000.0,144000.0,193500.0,193500.0,193500.0,193500.0,193500.0,112500.0,112500.0,112500.0,112500.0,135000.0,135000.0,135000.0,135000.0,135000.0,135000.0,135000.0,135000.0,135000.0,135000.0,135000.0,135000.0,135000.0,null,267750.0,267750.0,267750.0,267750.0,267750.0,267750.0,267750.0,267750.0,139500.0,139500.0,139500.0,139500.0,67500.0,67500.0,252000.0,252000.0,252000.0,252000.0,252000.0,252000.0,252000.0,180000.0,180000.0,180000.0,180000.0,135000.0,135000.0,900000.0,900000.0,180000.0,180000.0,180000.0,180000.0,180000.0,180000.0,180000.0,115290.0,115290.0,115290.0,115290.0,115290.0,115290.0,115290.0,115290.0,225000.0,225000.0,225000.0,135000.0,135000.0,135000.0,135000.0,135000.0,450000.0,450000.0,450000.0,450000.0,279000.0,279000.0,279000.0,279000.0,279000.0,279000.0,279000.0,279000.0,76500.0,76500.0,76500.0,76500.0,76500.0,76500.0,202500.0,202500.0,67500.0,67500.0,234000.0,234000.0,234000.0,234000.0,234000.0,90000.0,90000.0,90000.0,90000.0,90000.0,90000.0,90000.0,90000.0,90000.0,81000.0,108000.0,108000.0,99000.0,99000.0,198000.0,198000.0,360000.0,360000.0,135000.0,135000.0,76500.0,76500.0,76500.0,76500.0,76500.0,90000.0,90000.0,90000.0,90000.0,90000.0,270000.0,270000.0,81000.0,81000.0,81000.0,202500.0,202500.0,202500.0,202500.0,202500.0,202500.0,202500.0,202500.0,202500.0,202500.0,202500.0,157500.0,157500.0,157500.0,157500.0,157500.0,157500.0,157500.0,157500.0,157500.0,157500.0,180000.0,180000.0,180000.0,180000.0,180000.0,135000.0,135000.0,135000.0,135000.0,135000.0,135000.0,135000.0,135000.0,135000.0,270000.0,270000.0,270000.0,270000.0,270000.0,270000.0,270000.0,270000.0,270000.0,270000.0,270000.0,202500.0,202500.0,202500.0,202500.0,202500.0,157500.0,157500.0,157500.0,157500.0,157500.0,null,157500.0,180000.0,180000.0,180000.0,180000.0,112500.0,112500.0,157500.0,157500.0,null,157500.0,157500.0,157500.0,157500.0,157500.0,157500.0,157500.0,216000.0,202500.0,202500.0,202500.0,202500.0,198000.0,198000.0,198000.0,198000.0,198000.0,198000.0,198000.0,198000.0,198000.0,198000.0,198000.0,198000.0,198000.0,198000.0,157500.0,157500.0,157500.0,157500.0,180000.0,180000.0,180000.0,180000.0,180000.0,180000.0,180000.0,180000.0,180000.0,null,315000.0,315000.0,315000.0,112500.0,112500.0,112500.0,112500.0,112500.0,90000.0,90000.0,90000.0,45000.0,45000.0,225000.0,225000.0,112500.0,112500.0,144000.0,144000.0,144000.0,144000.0,144000.0,144000.0,315000.0,315000.0,112500.0,112500.0,112500.0,144000.0,144000.0,144000.0,144000.0,144000.0,144000.0,144000.0,144000.0,144000.0,225000.0,225000.0,225000.0,135000.0,135000.0,135000.0,135000.0,238500.0,238500.0,238500.0,238500.0,238500.0,238500.0,112500.0,112500.0,112500.0,144000.0,144000.0,90000.0,90000.0,90000.0,90000.0,202500.0,202500.0,117000.0,117000.0,117000.0,117000.0,117000.0,135000.0,135000.0,135000.0,135000.0,135000.0,135000.0,135000.0,135000.0,225000.0,225000.0,null,225000.0,126000.0,126000.0,126000.0,126000.0,126000.0,126000.0,135000.0,135000.0,90000.0,90000.0,90000.0,90000.0,90000.0,90000.0,90000.0,90000.0,90000.0,90000.0,90000.0,90000.0,90000.0,90000.0,90000.0,153000.0,153000.0,153000.0,153000.0,153000.0,1350000.0,1350000.0,1350000.0,1350000.0,1350000.0,1350000.0,1350000.0,139500.0,139500.0,139500.0,139500.0,139500.0,157500.0,157500.0,157500.0,157500.0,135000.0,135000.0,180000.0,180000.0,180000.0,180000.0,180000.0,180000.0,225000.0,225000.0,135000.0,135000.0,135000.0,135000.0,292500.0,null,292500.0,270000.0,270000.0,270000.0,270000.0,99000.0,99000.0,99000.0,99000.0,99000.0,99000.0,135000.0,135000.0,null,315000.0,315000.0,315000.0,315000.0,315000.0,null,315000.0,270000.0,270000.0,270000.0,270000.0,270000.0,270000.0,135000.0,135000.0,135000.0,135000.0,135000.0,135000.0,135000.0,135000.0,135000.0,135000.0,135000.0,135000.0,445500.0,445500.0,198000.0,198000.0,198000.0,198000.0,198000.0,198000.0,198000.0,198000.0,198000.0,198000.0,198000.0,382500.0,382500.0,382500.0,382500.0,382500.0,382500.0,382500.0,null,202500.0,202500.0,202500.0,null,202500.0,202500.0,202500.0,202500.0,202500.0,202500.0,202500.0,202500.0,202500.0,202500.0,99000.0,99000.0,99000.0,99000.0,99000.0,99000.0,99000.0,112500.0,112500.0,112500.0,112500.0,112500.0,166500.0,166500.0,166500.0,166500.0,166500.0,166500.0,166500.0,135000.0,135000.0,202500.0,202500.0,81000.0,180000.0,180000.0,225000.0,99000.0,99000.0,99000.0,360000.0,360000.0,360000.0,360000.0,360000.0,360000.0,360000.0,360000.0,360000.0,360000.0,225000.0,225000.0,225000.0,225000.0,225000.0,427500.0,427500.0,427500.0,427500.0,427500.0,157500.0,157500.0,144000.0,157500.0,157500.0,157500.0,157500.0,157500.0,157500.0,157500.0,157500.0,157500.0,157500.0,157500.0,270000.0,270000.0,157500.0,157500.0,90000.0,90000.0,90000.0,202500.0,202500.0,202500.0,202500.0,202500.0,202500.0,202500.0,202500.0,99000.0,99000.0,99000.0,99000.0,99000.0,99000.0,360000.0,360000.0,360000.0,360000.0,360000.0,360000.0,360000.0,360000.0,360000.0,360000.0,360000.0,360000.0,360000.0,360000.0,157500.0,157500.0,157500.0],\"xaxis\":\"x\",\"yaxis\":\"y\",\"type\":\"histogram\"}],                        {\"template\":{\"data\":{\"bar\":[{\"error_x\":{\"color\":\"#2a3f5f\"},\"error_y\":{\"color\":\"#2a3f5f\"},\"marker\":{\"line\":{\"color\":\"#E5ECF6\",\"width\":0.5},\"pattern\":{\"fillmode\":\"overlay\",\"size\":10,\"solidity\":0.2}},\"type\":\"bar\"}],\"barpolar\":[{\"marker\":{\"line\":{\"color\":\"#E5ECF6\",\"width\":0.5},\"pattern\":{\"fillmode\":\"overlay\",\"size\":10,\"solidity\":0.2}},\"type\":\"barpolar\"}],\"carpet\":[{\"aaxis\":{\"endlinecolor\":\"#2a3f5f\",\"gridcolor\":\"white\",\"linecolor\":\"white\",\"minorgridcolor\":\"white\",\"startlinecolor\":\"#2a3f5f\"},\"baxis\":{\"endlinecolor\":\"#2a3f5f\",\"gridcolor\":\"white\",\"linecolor\":\"white\",\"minorgridcolor\":\"white\",\"startlinecolor\":\"#2a3f5f\"},\"type\":\"carpet\"}],\"choropleth\":[{\"colorbar\":{\"outlinewidth\":0,\"ticks\":\"\"},\"type\":\"choropleth\"}],\"contour\":[{\"colorbar\":{\"outlinewidth\":0,\"ticks\":\"\"},\"colorscale\":[[0.0,\"#0d0887\"],[0.1111111111111111,\"#46039f\"],[0.2222222222222222,\"#7201a8\"],[0.3333333333333333,\"#9c179e\"],[0.4444444444444444,\"#bd3786\"],[0.5555555555555556,\"#d8576b\"],[0.6666666666666666,\"#ed7953\"],[0.7777777777777778,\"#fb9f3a\"],[0.8888888888888888,\"#fdca26\"],[1.0,\"#f0f921\"]],\"type\":\"contour\"}],\"contourcarpet\":[{\"colorbar\":{\"outlinewidth\":0,\"ticks\":\"\"},\"type\":\"contourcarpet\"}],\"heatmap\":[{\"colorbar\":{\"outlinewidth\":0,\"ticks\":\"\"},\"colorscale\":[[0.0,\"#0d0887\"],[0.1111111111111111,\"#46039f\"],[0.2222222222222222,\"#7201a8\"],[0.3333333333333333,\"#9c179e\"],[0.4444444444444444,\"#bd3786\"],[0.5555555555555556,\"#d8576b\"],[0.6666666666666666,\"#ed7953\"],[0.7777777777777778,\"#fb9f3a\"],[0.8888888888888888,\"#fdca26\"],[1.0,\"#f0f921\"]],\"type\":\"heatmap\"}],\"heatmapgl\":[{\"colorbar\":{\"outlinewidth\":0,\"ticks\":\"\"},\"colorscale\":[[0.0,\"#0d0887\"],[0.1111111111111111,\"#46039f\"],[0.2222222222222222,\"#7201a8\"],[0.3333333333333333,\"#9c179e\"],[0.4444444444444444,\"#bd3786\"],[0.5555555555555556,\"#d8576b\"],[0.6666666666666666,\"#ed7953\"],[0.7777777777777778,\"#fb9f3a\"],[0.8888888888888888,\"#fdca26\"],[1.0,\"#f0f921\"]],\"type\":\"heatmapgl\"}],\"histogram\":[{\"marker\":{\"pattern\":{\"fillmode\":\"overlay\",\"size\":10,\"solidity\":0.2}},\"type\":\"histogram\"}],\"histogram2d\":[{\"colorbar\":{\"outlinewidth\":0,\"ticks\":\"\"},\"colorscale\":[[0.0,\"#0d0887\"],[0.1111111111111111,\"#46039f\"],[0.2222222222222222,\"#7201a8\"],[0.3333333333333333,\"#9c179e\"],[0.4444444444444444,\"#bd3786\"],[0.5555555555555556,\"#d8576b\"],[0.6666666666666666,\"#ed7953\"],[0.7777777777777778,\"#fb9f3a\"],[0.8888888888888888,\"#fdca26\"],[1.0,\"#f0f921\"]],\"type\":\"histogram2d\"}],\"histogram2dcontour\":[{\"colorbar\":{\"outlinewidth\":0,\"ticks\":\"\"},\"colorscale\":[[0.0,\"#0d0887\"],[0.1111111111111111,\"#46039f\"],[0.2222222222222222,\"#7201a8\"],[0.3333333333333333,\"#9c179e\"],[0.4444444444444444,\"#bd3786\"],[0.5555555555555556,\"#d8576b\"],[0.6666666666666666,\"#ed7953\"],[0.7777777777777778,\"#fb9f3a\"],[0.8888888888888888,\"#fdca26\"],[1.0,\"#f0f921\"]],\"type\":\"histogram2dcontour\"}],\"mesh3d\":[{\"colorbar\":{\"outlinewidth\":0,\"ticks\":\"\"},\"type\":\"mesh3d\"}],\"parcoords\":[{\"line\":{\"colorbar\":{\"outlinewidth\":0,\"ticks\":\"\"}},\"type\":\"parcoords\"}],\"pie\":[{\"automargin\":true,\"type\":\"pie\"}],\"scatter\":[{\"marker\":{\"colorbar\":{\"outlinewidth\":0,\"ticks\":\"\"}},\"type\":\"scatter\"}],\"scatter3d\":[{\"line\":{\"colorbar\":{\"outlinewidth\":0,\"ticks\":\"\"}},\"marker\":{\"colorbar\":{\"outlinewidth\":0,\"ticks\":\"\"}},\"type\":\"scatter3d\"}],\"scattercarpet\":[{\"marker\":{\"colorbar\":{\"outlinewidth\":0,\"ticks\":\"\"}},\"type\":\"scattercarpet\"}],\"scattergeo\":[{\"marker\":{\"colorbar\":{\"outlinewidth\":0,\"ticks\":\"\"}},\"type\":\"scattergeo\"}],\"scattergl\":[{\"marker\":{\"colorbar\":{\"outlinewidth\":0,\"ticks\":\"\"}},\"type\":\"scattergl\"}],\"scattermapbox\":[{\"marker\":{\"colorbar\":{\"outlinewidth\":0,\"ticks\":\"\"}},\"type\":\"scattermapbox\"}],\"scatterpolar\":[{\"marker\":{\"colorbar\":{\"outlinewidth\":0,\"ticks\":\"\"}},\"type\":\"scatterpolar\"}],\"scatterpolargl\":[{\"marker\":{\"colorbar\":{\"outlinewidth\":0,\"ticks\":\"\"}},\"type\":\"scatterpolargl\"}],\"scatterternary\":[{\"marker\":{\"colorbar\":{\"outlinewidth\":0,\"ticks\":\"\"}},\"type\":\"scatterternary\"}],\"surface\":[{\"colorbar\":{\"outlinewidth\":0,\"ticks\":\"\"},\"colorscale\":[[0.0,\"#0d0887\"],[0.1111111111111111,\"#46039f\"],[0.2222222222222222,\"#7201a8\"],[0.3333333333333333,\"#9c179e\"],[0.4444444444444444,\"#bd3786\"],[0.5555555555555556,\"#d8576b\"],[0.6666666666666666,\"#ed7953\"],[0.7777777777777778,\"#fb9f3a\"],[0.8888888888888888,\"#fdca26\"],[1.0,\"#f0f921\"]],\"type\":\"surface\"}],\"table\":[{\"cells\":{\"fill\":{\"color\":\"#EBF0F8\"},\"line\":{\"color\":\"white\"}},\"header\":{\"fill\":{\"color\":\"#C8D4E3\"},\"line\":{\"color\":\"white\"}},\"type\":\"table\"}]},\"layout\":{\"annotationdefaults\":{\"arrowcolor\":\"#2a3f5f\",\"arrowhead\":0,\"arrowwidth\":1},\"autotypenumbers\":\"strict\",\"coloraxis\":{\"colorbar\":{\"outlinewidth\":0,\"ticks\":\"\"}},\"colorscale\":{\"diverging\":[[0,\"#8e0152\"],[0.1,\"#c51b7d\"],[0.2,\"#de77ae\"],[0.3,\"#f1b6da\"],[0.4,\"#fde0ef\"],[0.5,\"#f7f7f7\"],[0.6,\"#e6f5d0\"],[0.7,\"#b8e186\"],[0.8,\"#7fbc41\"],[0.9,\"#4d9221\"],[1,\"#276419\"]],\"sequential\":[[0.0,\"#0d0887\"],[0.1111111111111111,\"#46039f\"],[0.2222222222222222,\"#7201a8\"],[0.3333333333333333,\"#9c179e\"],[0.4444444444444444,\"#bd3786\"],[0.5555555555555556,\"#d8576b\"],[0.6666666666666666,\"#ed7953\"],[0.7777777777777778,\"#fb9f3a\"],[0.8888888888888888,\"#fdca26\"],[1.0,\"#f0f921\"]],\"sequentialminus\":[[0.0,\"#0d0887\"],[0.1111111111111111,\"#46039f\"],[0.2222222222222222,\"#7201a8\"],[0.3333333333333333,\"#9c179e\"],[0.4444444444444444,\"#bd3786\"],[0.5555555555555556,\"#d8576b\"],[0.6666666666666666,\"#ed7953\"],[0.7777777777777778,\"#fb9f3a\"],[0.8888888888888888,\"#fdca26\"],[1.0,\"#f0f921\"]]},\"colorway\":[\"#636efa\",\"#EF553B\",\"#00cc96\",\"#ab63fa\",\"#FFA15A\",\"#19d3f3\",\"#FF6692\",\"#B6E880\",\"#FF97FF\",\"#FECB52\"],\"font\":{\"color\":\"#2a3f5f\"},\"geo\":{\"bgcolor\":\"white\",\"lakecolor\":\"white\",\"landcolor\":\"#E5ECF6\",\"showlakes\":true,\"showland\":true,\"subunitcolor\":\"white\"},\"hoverlabel\":{\"align\":\"left\"},\"hovermode\":\"closest\",\"mapbox\":{\"style\":\"light\"},\"paper_bgcolor\":\"white\",\"plot_bgcolor\":\"#E5ECF6\",\"polar\":{\"angularaxis\":{\"gridcolor\":\"white\",\"linecolor\":\"white\",\"ticks\":\"\"},\"bgcolor\":\"#E5ECF6\",\"radialaxis\":{\"gridcolor\":\"white\",\"linecolor\":\"white\",\"ticks\":\"\"}},\"scene\":{\"xaxis\":{\"backgroundcolor\":\"#E5ECF6\",\"gridcolor\":\"white\",\"gridwidth\":2,\"linecolor\":\"white\",\"showbackground\":true,\"ticks\":\"\",\"zerolinecolor\":\"white\"},\"yaxis\":{\"backgroundcolor\":\"#E5ECF6\",\"gridcolor\":\"white\",\"gridwidth\":2,\"linecolor\":\"white\",\"showbackground\":true,\"ticks\":\"\",\"zerolinecolor\":\"white\"},\"zaxis\":{\"backgroundcolor\":\"#E5ECF6\",\"gridcolor\":\"white\",\"gridwidth\":2,\"linecolor\":\"white\",\"showbackground\":true,\"ticks\":\"\",\"zerolinecolor\":\"white\"}},\"shapedefaults\":{\"line\":{\"color\":\"#2a3f5f\"}},\"ternary\":{\"aaxis\":{\"gridcolor\":\"white\",\"linecolor\":\"white\",\"ticks\":\"\"},\"baxis\":{\"gridcolor\":\"white\",\"linecolor\":\"white\",\"ticks\":\"\"},\"bgcolor\":\"#E5ECF6\",\"caxis\":{\"gridcolor\":\"white\",\"linecolor\":\"white\",\"ticks\":\"\"}},\"title\":{\"x\":0.05},\"xaxis\":{\"automargin\":true,\"gridcolor\":\"white\",\"linecolor\":\"white\",\"ticks\":\"\",\"title\":{\"standoff\":15},\"zerolinecolor\":\"white\",\"zerolinewidth\":2},\"yaxis\":{\"automargin\":true,\"gridcolor\":\"white\",\"linecolor\":\"white\",\"ticks\":\"\",\"title\":{\"standoff\":15},\"zerolinecolor\":\"white\",\"zerolinewidth\":2}}},\"xaxis\":{\"anchor\":\"y\",\"domain\":[0.0,1.0],\"title\":{\"text\":\"AMT_INCOME_TOTAL\"}},\"yaxis\":{\"anchor\":\"x\",\"domain\":[0.0,1.0],\"title\":{\"text\":\"count\"}},\"legend\":{\"tracegroupgap\":0},\"margin\":{\"t\":60},\"barmode\":\"relative\"},                        {\"responsive\": true}                    ).then(function(){\n",
              "                            \n",
              "var gd = document.getElementById('b52e61f4-02f1-4bae-ade5-9bea979d08a8');\n",
              "var x = new MutationObserver(function (mutations, observer) {{\n",
              "        var display = window.getComputedStyle(gd).display;\n",
              "        if (!display || display === 'none') {{\n",
              "            console.log([gd, 'removed!']);\n",
              "            Plotly.purge(gd);\n",
              "            observer.disconnect();\n",
              "        }}\n",
              "}});\n",
              "\n",
              "// Listen for the removal of the full notebook cells\n",
              "var notebookContainer = gd.closest('#notebook-container');\n",
              "if (notebookContainer) {{\n",
              "    x.observe(notebookContainer, {childList: true});\n",
              "}}\n",
              "\n",
              "// Listen for the clearing of the current output cell\n",
              "var outputEl = gd.closest('.output');\n",
              "if (outputEl) {{\n",
              "    x.observe(outputEl, {childList: true});\n",
              "}}\n",
              "\n",
              "                        })                };                            </script>        </div>\n",
              "</body>\n",
              "</html>"
            ]
          },
          "metadata": {}
        }
      ],
      "source": [
        "#Plot first 1k AMT_INCOME_TOTAL\n",
        "fig = px.histogram(main_var.AMT_INCOME_TOTAL.head(1000), x=\"AMT_INCOME_TOTAL\")\n",
        "fig.show()"
      ]
    },
    {
      "cell_type": "code",
      "execution_count": 111,
      "id": "9f666e69",
      "metadata": {
        "colab": {
          "base_uri": "https://localhost:8080/",
          "height": 542
        },
        "id": "9f666e69",
        "outputId": "0431a597-53f8-482b-b686-9c02981b8415"
      },
      "outputs": [
        {
          "output_type": "display_data",
          "data": {
            "text/html": [
              "<html>\n",
              "<head><meta charset=\"utf-8\" /></head>\n",
              "<body>\n",
              "    <div>            <script src=\"https://cdnjs.cloudflare.com/ajax/libs/mathjax/2.7.5/MathJax.js?config=TeX-AMS-MML_SVG\"></script><script type=\"text/javascript\">if (window.MathJax) {MathJax.Hub.Config({SVG: {font: \"STIX-Web\"}});}</script>                <script type=\"text/javascript\">window.PlotlyConfig = {MathJaxConfig: 'local'};</script>\n",
              "        <script src=\"https://cdn.plot.ly/plotly-2.8.3.min.js\"></script>                <div id=\"000aec99-f5fa-4cfa-a599-f9439d942582\" class=\"plotly-graph-div\" style=\"height:525px; width:100%;\"></div>            <script type=\"text/javascript\">                                    window.PLOTLYENV=window.PLOTLYENV || {};                                    if (document.getElementById(\"000aec99-f5fa-4cfa-a599-f9439d942582\")) {                    Plotly.newPlot(                        \"000aec99-f5fa-4cfa-a599-f9439d942582\",                        [{\"alignmentgroup\":\"True\",\"bingroup\":\"x\",\"hovertemplate\":\"TOTAL_IMPAYMENTS=%{x}<br>count=%{y}<extra></extra>\",\"legendgroup\":\"\",\"marker\":{\"color\":\"#636efa\",\"pattern\":{\"shape\":\"\"}},\"name\":\"\",\"offsetgroup\":\"\",\"orientation\":\"v\",\"showlegend\":false,\"x\":[3.0,3.0,7.0,2.0,0.0,6.0,6.0,14.0,14.0,14.0,6.0,35.0,null,0.0,1.0,6.0,1.0,4.0,4.0,27.0,19.0,17.0,17.0,17.0,5.0,3.0,null,1.0,1.0,29.0,10.0,10.0,4.0,9.0,10.0,26.0,12.0,26.0,5.0,26.0,12.0,1.0,11.0,null,null,null,2.0,6.0,4.0,0.0,10.0,5.0,3.0,3.0,2.0,2.0,2.0,2.0,2.0,2.0,0.0,null,25.0,12.0,10.0,null,6.0,6.0,9.0,3.0,6.0,15.0,6.0,6.0,6.0,9.0,4.0,4.0,3.0,4.0,4.0,1.0,1.0,0.0,0.0,0.0,1.0,1.0,0.0,1.0,0.0,1.0,12.0,1.0,12.0,1.0,12.0,1.0,12.0,1.0,12.0,1.0,12.0,1.0,12.0,1.0,12.0,1.0,12.0,1.0,12.0,1.0,12.0,1.0,0.0,1.0,12.0,1.0,10.0,1.0,6.0,1.0,5.0,1.0,0.0,1.0,0.0,1.0,0.0,0.0,1.0,0.0,null,null,null,18.0,0.0,18.0,18.0,18.0,0.0,0.0,0.0,0.0,6.0,0.0,0.0,6.0,5.0,5.0,5.0,4.0,12.0,12.0,9.0,9.0,16.0,14.0,5.0,5.0,2.0,23.0,2.0,24.0,23.0,8.0,18.0,0.0,0.0,0.0,0.0,3.0,0.0,null,26.0,1.0,18.0,17.0,18.0,19.0,null,0.0,0.0,9.0,null,6.0,6.0,6.0,7.0,7.0,6.0,7.0,6.0,3.0,6.0,null,null,null,null,6.0,3.0,33.0,12.0,6.0,6.0,6.0,6.0,null,null,15.0,5.0,11.0,0.0,2.0,2.0,null,4.0,11.0,4.0,5.0,4.0,4.0,1.0,1.0,8.0,15.0,15.0,15.0,4.0,11.0,null,6.0,24.0,17.0,6.0,1.0,10.0,10.0,0.0,4.0,3.0,3.0,0.0,0.0,14.0,4.0,3.0,20.0,3.0,7.0,7.0,null,23.0,23.0,6.0,8.0,16.0,11.0,0.0,3.0,null,null,32.0,32.0,null,null,14.0,6.0,4.0,4.0,null,4.0,14.0,4.0,10.0,10.0,7.0,0.0,0.0,0.0,7.0,8.0,10.0,5.0,4.0,4.0,4.0,4.0,4.0,4.0,4.0,4.0,4.0,4.0,4.0,4.0,4.0,4.0,null,3.0,5.0,8.0,6.0,8.0,7.0,8.0,8.0,8.0,8.0,11.0,6.0,4.0,5.0,5.0,5.0,5.0,null,null,4.0,4.0,4.0,4.0,4.0,4.0,4.0,4.0,4.0,4.0,6.0,4.0,13.0,17.0,17.0,17.0,17.0,null,11.0,36.0,33.0,2.0,36.0,11.0,6.0,2.0,null,5.0,6.0,11.0,9.0,3.0,9.0,11.0,13.0,6.0,7.0,17.0,1.0,7.0,0.0,3.0,0.0,12.0,21.0,0.0,47.0,3.0,null,null,0.0,19.0,5.0,6.0,null,null,7.0,37.0,24.0,5.0,0.0,44.0,21.0,1.0,37.0,0.0,30.0,null,null,null,5.0,5.0,3.0,5.0,null,6.0,6.0,0.0,0.0,6.0,9.0,4.0,4.0,4.0,5.0,4.0,null,7.0,7.0,6.0,4.0,5.0,4.0,13.0,null,9.0,10.0,10.0,10.0,6.0,10.0,27.0,17.0,17.0,24.0,1.0,14.0,18.0,1.0,24.0,21.0,17.0,5.0,16.0,30.0,24.0,4.0,1.0,8.0,19.0,5.0,0.0,7.0,2.0,17.0,33.0,8.0,6.0,null,10.0,34.0,5.0,11.0,21.0,16.0,9.0,10.0,16.0,11.0,7.0,5.0,9.0,16.0,16.0,16.0,7.0,10.0,7.0,7.0,10.0,7.0,3.0,7.0,14.0,0.0,5.0,10.0,10.0,null,13.0,15.0,18.0,18.0,25.0,18.0,16.0,18.0,9.0,11.0,3.0,null,null,25.0,0.0,15.0,9.0,4.0,17.0,9.0,5.0,14.0,11.0,43.0,5.0,11.0,8.0,8.0,8.0,11.0,null,null,6.0,null,null,4.0,4.0,6.0,9.0,null,23.0,23.0,0.0,6.0,11.0,34.0,19.0,3.0,13.0,5.0,null,null,4.0,4.0,16.0,4.0,4.0,4.0,6.0,12.0,8.0,null,0.0,0.0,12.0,0.0,6.0,11.0,1.0,6.0,5.0,0.0,8.0,1.0,null,null,8.0,8.0,12.0,11.0,2.0,15.0,3.0,6.0,null,10.0,5.0,0.0,5.0,0.0,0.0,0.0,5.0,6.0,4.0,6.0,null,17.0,null,5.0,5.0,null,6.0,5.0,5.0,15.0,5.0,3.0,7.0,12.0,0.0,null,null,8.0,9.0,10.0,13.0,1.0,7.0,15.0,1.0,15.0,null,12.0,13.0,1.0,null,null,2.0,5.0,null,0.0,11.0,11.0,36.0,10.0,null,9.0,9.0,9.0,13.0,15.0,5.0,10.0,9.0,13.0,26.0,null,10.0,5.0,22.0,12.0,null,8.0,5.0,15.0,1.0,3.0,null,null,4.0,12.0,2.0,null,11.0,12.0,0.0,25.0,0.0,10.0,0.0,4.0,10.0,10.0,null,null,4.0,11.0,10.0,4.0,null,9.0,44.0,29.0,1.0,49.0,2.0,7.0,4.0,5.0,19.0,29.0,22.0,28.0,21.0,1.0,12.0,1.0,null,0.0,0.0,12.0,0.0,0.0,0.0,6.0,0.0,0.0,0.0,10.0,9.0,null,12.0,30.0,4.0,12.0,4.0,12.0,6.0,12.0,20.0,12.0,8.0,7.0,0.0,3.0,18.0,9.0,19.0,19.0,19.0,19.0,0.0,null,38.0,6.0,5.0,16.0,0.0,16.0,7.0,16.0,0.0,0.0,11.0,null,6.0,6.0,null,0.0,7.0,29.0,6.0,3.0,21.0,65.0,3.0,null,null,6.0,1.0,null,15.0,8.0,7.0,12.0,12.0,12.0,1.0,26.0,0.0,6.0,2.0,2.0,null,7.0,7.0,7.0,8.0,7.0,7.0,8.0,null,7.0,7.0,3.0,5.0,7.0,7.0,7.0,5.0,5.0,null,8.0,6.0,8.0,9.0,9.0,3.0,7.0,10.0,3.0,9.0,0.0,3.0,7.0,9.0,4.0,3.0,0.0,13.0,13.0,13.0,13.0,null,17.0,7.0,19.0,6.0,8.0,17.0,null,3.0,4.0,6.0,4.0,6.0,4.0,15.0,0.0,null,4.0,4.0,26.0,26.0,4.0,17.0,8.0,26.0,23.0,10.0,7.0,8.0,7.0,8.0,0.0,5.0,1.0,0.0,1.0,0.0,null,14.0,3.0,4.0,14.0,7.0,14.0,12.0,12.0,9.0,111.0,11.0,25.0,5.0,11.0,5.0,null,8.0,8.0,17.0,0.0,8.0,null,10.0,5.0,0.0,5.0,5.0,20.0,24.0,2.0,5.0,10.0,5.0,null,10.0,10.0,6.0,3.0,3.0,7.0,2.0,23.0,5.0,7.0,7.0,3.0,null,6.0,6.0,6.0,6.0,6.0,6.0,6.0,10.0,18.0,0.0,0.0,0.0,27.0,22.0,0.0,0.0,14.0,22.0,6.0,0.0,0.0,null,4.0,9.0,13.0,21.0,21.0,21.0,5.0,20.0,0.0,23.0,0.0,0.0,6.0,3.0,6.0,4.0,3.0,6.0,null,4.0,4.0,2.0,2.0,12.0,0.0,8.0,1.0,3.0,22.0,34.0,15.0,14.0,0.0,7.0,6.0,7.0,34.0,10.0,12.0,12.0,21.0,0.0,32.0,0.0,24.0,7.0,33.0,1.0,33.0,null,0.0,5.0,4.0,3.0,3.0,8.0,3.0,2.0,3.0,13.0,22.0,3.0,null,null,5.0,5.0,17.0,null,8.0,1.0,6.0,5.0,7.0,5.0,7.0,10.0,14.0,7.0,0.0,11.0,5.0,13.0,14.0,10.0,1.0,13.0,10.0,17.0,5.0,25.0,0.0,11.0,0.0,6.0,6.0,null,null,null,null,9.0,5.0,37.0],\"xaxis\":\"x\",\"yaxis\":\"y\",\"type\":\"histogram\"}],                        {\"template\":{\"data\":{\"bar\":[{\"error_x\":{\"color\":\"#2a3f5f\"},\"error_y\":{\"color\":\"#2a3f5f\"},\"marker\":{\"line\":{\"color\":\"#E5ECF6\",\"width\":0.5},\"pattern\":{\"fillmode\":\"overlay\",\"size\":10,\"solidity\":0.2}},\"type\":\"bar\"}],\"barpolar\":[{\"marker\":{\"line\":{\"color\":\"#E5ECF6\",\"width\":0.5},\"pattern\":{\"fillmode\":\"overlay\",\"size\":10,\"solidity\":0.2}},\"type\":\"barpolar\"}],\"carpet\":[{\"aaxis\":{\"endlinecolor\":\"#2a3f5f\",\"gridcolor\":\"white\",\"linecolor\":\"white\",\"minorgridcolor\":\"white\",\"startlinecolor\":\"#2a3f5f\"},\"baxis\":{\"endlinecolor\":\"#2a3f5f\",\"gridcolor\":\"white\",\"linecolor\":\"white\",\"minorgridcolor\":\"white\",\"startlinecolor\":\"#2a3f5f\"},\"type\":\"carpet\"}],\"choropleth\":[{\"colorbar\":{\"outlinewidth\":0,\"ticks\":\"\"},\"type\":\"choropleth\"}],\"contour\":[{\"colorbar\":{\"outlinewidth\":0,\"ticks\":\"\"},\"colorscale\":[[0.0,\"#0d0887\"],[0.1111111111111111,\"#46039f\"],[0.2222222222222222,\"#7201a8\"],[0.3333333333333333,\"#9c179e\"],[0.4444444444444444,\"#bd3786\"],[0.5555555555555556,\"#d8576b\"],[0.6666666666666666,\"#ed7953\"],[0.7777777777777778,\"#fb9f3a\"],[0.8888888888888888,\"#fdca26\"],[1.0,\"#f0f921\"]],\"type\":\"contour\"}],\"contourcarpet\":[{\"colorbar\":{\"outlinewidth\":0,\"ticks\":\"\"},\"type\":\"contourcarpet\"}],\"heatmap\":[{\"colorbar\":{\"outlinewidth\":0,\"ticks\":\"\"},\"colorscale\":[[0.0,\"#0d0887\"],[0.1111111111111111,\"#46039f\"],[0.2222222222222222,\"#7201a8\"],[0.3333333333333333,\"#9c179e\"],[0.4444444444444444,\"#bd3786\"],[0.5555555555555556,\"#d8576b\"],[0.6666666666666666,\"#ed7953\"],[0.7777777777777778,\"#fb9f3a\"],[0.8888888888888888,\"#fdca26\"],[1.0,\"#f0f921\"]],\"type\":\"heatmap\"}],\"heatmapgl\":[{\"colorbar\":{\"outlinewidth\":0,\"ticks\":\"\"},\"colorscale\":[[0.0,\"#0d0887\"],[0.1111111111111111,\"#46039f\"],[0.2222222222222222,\"#7201a8\"],[0.3333333333333333,\"#9c179e\"],[0.4444444444444444,\"#bd3786\"],[0.5555555555555556,\"#d8576b\"],[0.6666666666666666,\"#ed7953\"],[0.7777777777777778,\"#fb9f3a\"],[0.8888888888888888,\"#fdca26\"],[1.0,\"#f0f921\"]],\"type\":\"heatmapgl\"}],\"histogram\":[{\"marker\":{\"pattern\":{\"fillmode\":\"overlay\",\"size\":10,\"solidity\":0.2}},\"type\":\"histogram\"}],\"histogram2d\":[{\"colorbar\":{\"outlinewidth\":0,\"ticks\":\"\"},\"colorscale\":[[0.0,\"#0d0887\"],[0.1111111111111111,\"#46039f\"],[0.2222222222222222,\"#7201a8\"],[0.3333333333333333,\"#9c179e\"],[0.4444444444444444,\"#bd3786\"],[0.5555555555555556,\"#d8576b\"],[0.6666666666666666,\"#ed7953\"],[0.7777777777777778,\"#fb9f3a\"],[0.8888888888888888,\"#fdca26\"],[1.0,\"#f0f921\"]],\"type\":\"histogram2d\"}],\"histogram2dcontour\":[{\"colorbar\":{\"outlinewidth\":0,\"ticks\":\"\"},\"colorscale\":[[0.0,\"#0d0887\"],[0.1111111111111111,\"#46039f\"],[0.2222222222222222,\"#7201a8\"],[0.3333333333333333,\"#9c179e\"],[0.4444444444444444,\"#bd3786\"],[0.5555555555555556,\"#d8576b\"],[0.6666666666666666,\"#ed7953\"],[0.7777777777777778,\"#fb9f3a\"],[0.8888888888888888,\"#fdca26\"],[1.0,\"#f0f921\"]],\"type\":\"histogram2dcontour\"}],\"mesh3d\":[{\"colorbar\":{\"outlinewidth\":0,\"ticks\":\"\"},\"type\":\"mesh3d\"}],\"parcoords\":[{\"line\":{\"colorbar\":{\"outlinewidth\":0,\"ticks\":\"\"}},\"type\":\"parcoords\"}],\"pie\":[{\"automargin\":true,\"type\":\"pie\"}],\"scatter\":[{\"marker\":{\"colorbar\":{\"outlinewidth\":0,\"ticks\":\"\"}},\"type\":\"scatter\"}],\"scatter3d\":[{\"line\":{\"colorbar\":{\"outlinewidth\":0,\"ticks\":\"\"}},\"marker\":{\"colorbar\":{\"outlinewidth\":0,\"ticks\":\"\"}},\"type\":\"scatter3d\"}],\"scattercarpet\":[{\"marker\":{\"colorbar\":{\"outlinewidth\":0,\"ticks\":\"\"}},\"type\":\"scattercarpet\"}],\"scattergeo\":[{\"marker\":{\"colorbar\":{\"outlinewidth\":0,\"ticks\":\"\"}},\"type\":\"scattergeo\"}],\"scattergl\":[{\"marker\":{\"colorbar\":{\"outlinewidth\":0,\"ticks\":\"\"}},\"type\":\"scattergl\"}],\"scattermapbox\":[{\"marker\":{\"colorbar\":{\"outlinewidth\":0,\"ticks\":\"\"}},\"type\":\"scattermapbox\"}],\"scatterpolar\":[{\"marker\":{\"colorbar\":{\"outlinewidth\":0,\"ticks\":\"\"}},\"type\":\"scatterpolar\"}],\"scatterpolargl\":[{\"marker\":{\"colorbar\":{\"outlinewidth\":0,\"ticks\":\"\"}},\"type\":\"scatterpolargl\"}],\"scatterternary\":[{\"marker\":{\"colorbar\":{\"outlinewidth\":0,\"ticks\":\"\"}},\"type\":\"scatterternary\"}],\"surface\":[{\"colorbar\":{\"outlinewidth\":0,\"ticks\":\"\"},\"colorscale\":[[0.0,\"#0d0887\"],[0.1111111111111111,\"#46039f\"],[0.2222222222222222,\"#7201a8\"],[0.3333333333333333,\"#9c179e\"],[0.4444444444444444,\"#bd3786\"],[0.5555555555555556,\"#d8576b\"],[0.6666666666666666,\"#ed7953\"],[0.7777777777777778,\"#fb9f3a\"],[0.8888888888888888,\"#fdca26\"],[1.0,\"#f0f921\"]],\"type\":\"surface\"}],\"table\":[{\"cells\":{\"fill\":{\"color\":\"#EBF0F8\"},\"line\":{\"color\":\"white\"}},\"header\":{\"fill\":{\"color\":\"#C8D4E3\"},\"line\":{\"color\":\"white\"}},\"type\":\"table\"}]},\"layout\":{\"annotationdefaults\":{\"arrowcolor\":\"#2a3f5f\",\"arrowhead\":0,\"arrowwidth\":1},\"autotypenumbers\":\"strict\",\"coloraxis\":{\"colorbar\":{\"outlinewidth\":0,\"ticks\":\"\"}},\"colorscale\":{\"diverging\":[[0,\"#8e0152\"],[0.1,\"#c51b7d\"],[0.2,\"#de77ae\"],[0.3,\"#f1b6da\"],[0.4,\"#fde0ef\"],[0.5,\"#f7f7f7\"],[0.6,\"#e6f5d0\"],[0.7,\"#b8e186\"],[0.8,\"#7fbc41\"],[0.9,\"#4d9221\"],[1,\"#276419\"]],\"sequential\":[[0.0,\"#0d0887\"],[0.1111111111111111,\"#46039f\"],[0.2222222222222222,\"#7201a8\"],[0.3333333333333333,\"#9c179e\"],[0.4444444444444444,\"#bd3786\"],[0.5555555555555556,\"#d8576b\"],[0.6666666666666666,\"#ed7953\"],[0.7777777777777778,\"#fb9f3a\"],[0.8888888888888888,\"#fdca26\"],[1.0,\"#f0f921\"]],\"sequentialminus\":[[0.0,\"#0d0887\"],[0.1111111111111111,\"#46039f\"],[0.2222222222222222,\"#7201a8\"],[0.3333333333333333,\"#9c179e\"],[0.4444444444444444,\"#bd3786\"],[0.5555555555555556,\"#d8576b\"],[0.6666666666666666,\"#ed7953\"],[0.7777777777777778,\"#fb9f3a\"],[0.8888888888888888,\"#fdca26\"],[1.0,\"#f0f921\"]]},\"colorway\":[\"#636efa\",\"#EF553B\",\"#00cc96\",\"#ab63fa\",\"#FFA15A\",\"#19d3f3\",\"#FF6692\",\"#B6E880\",\"#FF97FF\",\"#FECB52\"],\"font\":{\"color\":\"#2a3f5f\"},\"geo\":{\"bgcolor\":\"white\",\"lakecolor\":\"white\",\"landcolor\":\"#E5ECF6\",\"showlakes\":true,\"showland\":true,\"subunitcolor\":\"white\"},\"hoverlabel\":{\"align\":\"left\"},\"hovermode\":\"closest\",\"mapbox\":{\"style\":\"light\"},\"paper_bgcolor\":\"white\",\"plot_bgcolor\":\"#E5ECF6\",\"polar\":{\"angularaxis\":{\"gridcolor\":\"white\",\"linecolor\":\"white\",\"ticks\":\"\"},\"bgcolor\":\"#E5ECF6\",\"radialaxis\":{\"gridcolor\":\"white\",\"linecolor\":\"white\",\"ticks\":\"\"}},\"scene\":{\"xaxis\":{\"backgroundcolor\":\"#E5ECF6\",\"gridcolor\":\"white\",\"gridwidth\":2,\"linecolor\":\"white\",\"showbackground\":true,\"ticks\":\"\",\"zerolinecolor\":\"white\"},\"yaxis\":{\"backgroundcolor\":\"#E5ECF6\",\"gridcolor\":\"white\",\"gridwidth\":2,\"linecolor\":\"white\",\"showbackground\":true,\"ticks\":\"\",\"zerolinecolor\":\"white\"},\"zaxis\":{\"backgroundcolor\":\"#E5ECF6\",\"gridcolor\":\"white\",\"gridwidth\":2,\"linecolor\":\"white\",\"showbackground\":true,\"ticks\":\"\",\"zerolinecolor\":\"white\"}},\"shapedefaults\":{\"line\":{\"color\":\"#2a3f5f\"}},\"ternary\":{\"aaxis\":{\"gridcolor\":\"white\",\"linecolor\":\"white\",\"ticks\":\"\"},\"baxis\":{\"gridcolor\":\"white\",\"linecolor\":\"white\",\"ticks\":\"\"},\"bgcolor\":\"#E5ECF6\",\"caxis\":{\"gridcolor\":\"white\",\"linecolor\":\"white\",\"ticks\":\"\"}},\"title\":{\"x\":0.05},\"xaxis\":{\"automargin\":true,\"gridcolor\":\"white\",\"linecolor\":\"white\",\"ticks\":\"\",\"title\":{\"standoff\":15},\"zerolinecolor\":\"white\",\"zerolinewidth\":2},\"yaxis\":{\"automargin\":true,\"gridcolor\":\"white\",\"linecolor\":\"white\",\"ticks\":\"\",\"title\":{\"standoff\":15},\"zerolinecolor\":\"white\",\"zerolinewidth\":2}}},\"xaxis\":{\"anchor\":\"y\",\"domain\":[0.0,1.0],\"title\":{\"text\":\"TOTAL_IMPAYMENTS\"}},\"yaxis\":{\"anchor\":\"x\",\"domain\":[0.0,1.0],\"title\":{\"text\":\"count\"}},\"legend\":{\"tracegroupgap\":0},\"margin\":{\"t\":60},\"barmode\":\"relative\"},                        {\"responsive\": true}                    ).then(function(){\n",
              "                            \n",
              "var gd = document.getElementById('000aec99-f5fa-4cfa-a599-f9439d942582');\n",
              "var x = new MutationObserver(function (mutations, observer) {{\n",
              "        var display = window.getComputedStyle(gd).display;\n",
              "        if (!display || display === 'none') {{\n",
              "            console.log([gd, 'removed!']);\n",
              "            Plotly.purge(gd);\n",
              "            observer.disconnect();\n",
              "        }}\n",
              "}});\n",
              "\n",
              "// Listen for the removal of the full notebook cells\n",
              "var notebookContainer = gd.closest('#notebook-container');\n",
              "if (notebookContainer) {{\n",
              "    x.observe(notebookContainer, {childList: true});\n",
              "}}\n",
              "\n",
              "// Listen for the clearing of the current output cell\n",
              "var outputEl = gd.closest('.output');\n",
              "if (outputEl) {{\n",
              "    x.observe(outputEl, {childList: true});\n",
              "}}\n",
              "\n",
              "                        })                };                            </script>        </div>\n",
              "</body>\n",
              "</html>"
            ]
          },
          "metadata": {}
        }
      ],
      "source": [
        "#Plot first 1k Total impayments\n",
        "\n",
        "fig = px.histogram(main_var.TOTAL_IMPAYMENTS.head(1000), x='TOTAL_IMPAYMENTS')\n",
        "fig.show()"
      ]
    },
    {
      "cell_type": "markdown",
      "id": "9dccf866",
      "metadata": {
        "id": "9dccf866"
      },
      "source": [
        "## 4.2 Apply all filter for cuts"
      ]
    },
    {
      "cell_type": "code",
      "execution_count": 112,
      "id": "a2a8814b",
      "metadata": {
        "id": "a2a8814b"
      },
      "outputs": [],
      "source": [
        "#Define \n",
        "main['Frac'] = 0"
      ]
    },
    {
      "cell_type": "code",
      "execution_count": 113,
      "id": "ae1e1f8b",
      "metadata": {
        "colab": {
          "base_uri": "https://localhost:8080/"
        },
        "id": "ae1e1f8b",
        "outputId": "d31ddcfe-6dbe-4c08-95c4-9756e7c487f7"
      },
      "outputs": [
        {
          "output_type": "execute_result",
          "data": {
            "text/plain": [
              "0    426472\n",
              "1     12295\n",
              "Name: Frac, dtype: int64"
            ]
          },
          "metadata": {},
          "execution_count": 113
        }
      ],
      "source": [
        "#Define\n",
        "main['Frac'] = 0\n",
        "main.loc[main['TOTAL_IMPAYMENTS'] == 0.0, 'Frac'] = 1\n",
        "main.loc[(main['TOTAL_IMPAYMENTS'] < 10.0) & (main['AMT_INCOME_TOTAL'] >= 200000.0), 'Frac'] = 1\n",
        "main.loc[(main['TOTAL_IMPAYMENTS'] >= 10.0) & (main['TOTAL_IMPAYMENTS'] < 20.0) & (main['AMT_INCOME_TOTAL'] >= 300000.0), 'Frac'] = 1\n",
        "main.Frac.value_counts()"
      ]
    },
    {
      "cell_type": "code",
      "execution_count": 114,
      "id": "c07dd607",
      "metadata": {
        "colab": {
          "base_uri": "https://localhost:8080/",
          "height": 423
        },
        "id": "c07dd607",
        "outputId": "9c2e2ada-0974-4178-902e-eb1fb8e56466"
      },
      "outputs": [
        {
          "output_type": "execute_result",
          "data": {
            "text/plain": [
              "       FLAG_OWN_CAR FLAG_OWN_REALTY  AMT_INCOME_TOTAL  DAYS_EMPLOYED  \\\n",
              "0                 Y               Y          427500.0        -4542.0   \n",
              "1                 Y               Y          427500.0        -4542.0   \n",
              "2                 Y               Y          112500.0        -1134.0   \n",
              "3                 N               Y          270000.0        -3051.0   \n",
              "4               NaN               Y          270000.0        -3051.0   \n",
              "...             ...             ...               ...            ...   \n",
              "438762            N               N          130500.0        -3331.0   \n",
              "438763            Y               Y          180000.0        -5941.0   \n",
              "438764            N               Y          148500.0         -880.0   \n",
              "438765            N             NaN          180000.0         -885.0   \n",
              "438766            N               Y          225000.0         -783.0   \n",
              "\n",
              "        FLAG_WORK_PHONE  CNT_FAM_MEMBERS DAYS_BIRTH_CLEAN  TOTAL_IMPAYMENTS  \\\n",
              "0                   1.0              2.0       09/04/1990               3.0   \n",
              "1                   1.0              2.0       09/04/1990               3.0   \n",
              "2                   0.0              2.0       06/05/1964               7.0   \n",
              "3                   0.0              1.0       26/10/1970               2.0   \n",
              "4                   0.0              1.0       26/10/1970               0.0   \n",
              "...                 ...              ...              ...               ...   \n",
              "438762              1.0              2.0       04/06/1991               NaN   \n",
              "438763              0.0              2.0       05/01/1978               NaN   \n",
              "438764              0.0              2.0       07/03/1974               NaN   \n",
              "438765              1.0              2.0       08/03/1965               NaN   \n",
              "438766              0.0              3.0       24/11/1989               6.0   \n",
              "\n",
              "              Age  Frac  \n",
              "0       32.490075     1  \n",
              "1       32.490075     1  \n",
              "2       58.737851     0  \n",
              "3       52.347707     1  \n",
              "4       52.347707     1  \n",
              "...           ...   ...  \n",
              "438762  31.904175     0  \n",
              "438763  44.835044     0  \n",
              "438764  48.662560     0  \n",
              "438765  57.577002     0  \n",
              "438766  33.267625     1  \n",
              "\n",
              "[438767 rows x 10 columns]"
            ],
            "text/html": [
              "\n",
              "  <div id=\"df-3adbc339-3802-4116-a6a4-5693ae1d15eb\">\n",
              "    <div class=\"colab-df-container\">\n",
              "      <div>\n",
              "<style scoped>\n",
              "    .dataframe tbody tr th:only-of-type {\n",
              "        vertical-align: middle;\n",
              "    }\n",
              "\n",
              "    .dataframe tbody tr th {\n",
              "        vertical-align: top;\n",
              "    }\n",
              "\n",
              "    .dataframe thead th {\n",
              "        text-align: right;\n",
              "    }\n",
              "</style>\n",
              "<table border=\"1\" class=\"dataframe\">\n",
              "  <thead>\n",
              "    <tr style=\"text-align: right;\">\n",
              "      <th></th>\n",
              "      <th>FLAG_OWN_CAR</th>\n",
              "      <th>FLAG_OWN_REALTY</th>\n",
              "      <th>AMT_INCOME_TOTAL</th>\n",
              "      <th>DAYS_EMPLOYED</th>\n",
              "      <th>FLAG_WORK_PHONE</th>\n",
              "      <th>CNT_FAM_MEMBERS</th>\n",
              "      <th>DAYS_BIRTH_CLEAN</th>\n",
              "      <th>TOTAL_IMPAYMENTS</th>\n",
              "      <th>Age</th>\n",
              "      <th>Frac</th>\n",
              "    </tr>\n",
              "  </thead>\n",
              "  <tbody>\n",
              "    <tr>\n",
              "      <th>0</th>\n",
              "      <td>Y</td>\n",
              "      <td>Y</td>\n",
              "      <td>427500.0</td>\n",
              "      <td>-4542.0</td>\n",
              "      <td>1.0</td>\n",
              "      <td>2.0</td>\n",
              "      <td>09/04/1990</td>\n",
              "      <td>3.0</td>\n",
              "      <td>32.490075</td>\n",
              "      <td>1</td>\n",
              "    </tr>\n",
              "    <tr>\n",
              "      <th>1</th>\n",
              "      <td>Y</td>\n",
              "      <td>Y</td>\n",
              "      <td>427500.0</td>\n",
              "      <td>-4542.0</td>\n",
              "      <td>1.0</td>\n",
              "      <td>2.0</td>\n",
              "      <td>09/04/1990</td>\n",
              "      <td>3.0</td>\n",
              "      <td>32.490075</td>\n",
              "      <td>1</td>\n",
              "    </tr>\n",
              "    <tr>\n",
              "      <th>2</th>\n",
              "      <td>Y</td>\n",
              "      <td>Y</td>\n",
              "      <td>112500.0</td>\n",
              "      <td>-1134.0</td>\n",
              "      <td>0.0</td>\n",
              "      <td>2.0</td>\n",
              "      <td>06/05/1964</td>\n",
              "      <td>7.0</td>\n",
              "      <td>58.737851</td>\n",
              "      <td>0</td>\n",
              "    </tr>\n",
              "    <tr>\n",
              "      <th>3</th>\n",
              "      <td>N</td>\n",
              "      <td>Y</td>\n",
              "      <td>270000.0</td>\n",
              "      <td>-3051.0</td>\n",
              "      <td>0.0</td>\n",
              "      <td>1.0</td>\n",
              "      <td>26/10/1970</td>\n",
              "      <td>2.0</td>\n",
              "      <td>52.347707</td>\n",
              "      <td>1</td>\n",
              "    </tr>\n",
              "    <tr>\n",
              "      <th>4</th>\n",
              "      <td>NaN</td>\n",
              "      <td>Y</td>\n",
              "      <td>270000.0</td>\n",
              "      <td>-3051.0</td>\n",
              "      <td>0.0</td>\n",
              "      <td>1.0</td>\n",
              "      <td>26/10/1970</td>\n",
              "      <td>0.0</td>\n",
              "      <td>52.347707</td>\n",
              "      <td>1</td>\n",
              "    </tr>\n",
              "    <tr>\n",
              "      <th>...</th>\n",
              "      <td>...</td>\n",
              "      <td>...</td>\n",
              "      <td>...</td>\n",
              "      <td>...</td>\n",
              "      <td>...</td>\n",
              "      <td>...</td>\n",
              "      <td>...</td>\n",
              "      <td>...</td>\n",
              "      <td>...</td>\n",
              "      <td>...</td>\n",
              "    </tr>\n",
              "    <tr>\n",
              "      <th>438762</th>\n",
              "      <td>N</td>\n",
              "      <td>N</td>\n",
              "      <td>130500.0</td>\n",
              "      <td>-3331.0</td>\n",
              "      <td>1.0</td>\n",
              "      <td>2.0</td>\n",
              "      <td>04/06/1991</td>\n",
              "      <td>NaN</td>\n",
              "      <td>31.904175</td>\n",
              "      <td>0</td>\n",
              "    </tr>\n",
              "    <tr>\n",
              "      <th>438763</th>\n",
              "      <td>Y</td>\n",
              "      <td>Y</td>\n",
              "      <td>180000.0</td>\n",
              "      <td>-5941.0</td>\n",
              "      <td>0.0</td>\n",
              "      <td>2.0</td>\n",
              "      <td>05/01/1978</td>\n",
              "      <td>NaN</td>\n",
              "      <td>44.835044</td>\n",
              "      <td>0</td>\n",
              "    </tr>\n",
              "    <tr>\n",
              "      <th>438764</th>\n",
              "      <td>N</td>\n",
              "      <td>Y</td>\n",
              "      <td>148500.0</td>\n",
              "      <td>-880.0</td>\n",
              "      <td>0.0</td>\n",
              "      <td>2.0</td>\n",
              "      <td>07/03/1974</td>\n",
              "      <td>NaN</td>\n",
              "      <td>48.662560</td>\n",
              "      <td>0</td>\n",
              "    </tr>\n",
              "    <tr>\n",
              "      <th>438765</th>\n",
              "      <td>N</td>\n",
              "      <td>NaN</td>\n",
              "      <td>180000.0</td>\n",
              "      <td>-885.0</td>\n",
              "      <td>1.0</td>\n",
              "      <td>2.0</td>\n",
              "      <td>08/03/1965</td>\n",
              "      <td>NaN</td>\n",
              "      <td>57.577002</td>\n",
              "      <td>0</td>\n",
              "    </tr>\n",
              "    <tr>\n",
              "      <th>438766</th>\n",
              "      <td>N</td>\n",
              "      <td>Y</td>\n",
              "      <td>225000.0</td>\n",
              "      <td>-783.0</td>\n",
              "      <td>0.0</td>\n",
              "      <td>3.0</td>\n",
              "      <td>24/11/1989</td>\n",
              "      <td>6.0</td>\n",
              "      <td>33.267625</td>\n",
              "      <td>1</td>\n",
              "    </tr>\n",
              "  </tbody>\n",
              "</table>\n",
              "<p>438767 rows × 10 columns</p>\n",
              "</div>\n",
              "      <button class=\"colab-df-convert\" onclick=\"convertToInteractive('df-3adbc339-3802-4116-a6a4-5693ae1d15eb')\"\n",
              "              title=\"Convert this dataframe to an interactive table.\"\n",
              "              style=\"display:none;\">\n",
              "        \n",
              "  <svg xmlns=\"http://www.w3.org/2000/svg\" height=\"24px\"viewBox=\"0 0 24 24\"\n",
              "       width=\"24px\">\n",
              "    <path d=\"M0 0h24v24H0V0z\" fill=\"none\"/>\n",
              "    <path d=\"M18.56 5.44l.94 2.06.94-2.06 2.06-.94-2.06-.94-.94-2.06-.94 2.06-2.06.94zm-11 1L8.5 8.5l.94-2.06 2.06-.94-2.06-.94L8.5 2.5l-.94 2.06-2.06.94zm10 10l.94 2.06.94-2.06 2.06-.94-2.06-.94-.94-2.06-.94 2.06-2.06.94z\"/><path d=\"M17.41 7.96l-1.37-1.37c-.4-.4-.92-.59-1.43-.59-.52 0-1.04.2-1.43.59L10.3 9.45l-7.72 7.72c-.78.78-.78 2.05 0 2.83L4 21.41c.39.39.9.59 1.41.59.51 0 1.02-.2 1.41-.59l7.78-7.78 2.81-2.81c.8-.78.8-2.07 0-2.86zM5.41 20L4 18.59l7.72-7.72 1.47 1.35L5.41 20z\"/>\n",
              "  </svg>\n",
              "      </button>\n",
              "      \n",
              "  <style>\n",
              "    .colab-df-container {\n",
              "      display:flex;\n",
              "      flex-wrap:wrap;\n",
              "      gap: 12px;\n",
              "    }\n",
              "\n",
              "    .colab-df-convert {\n",
              "      background-color: #E8F0FE;\n",
              "      border: none;\n",
              "      border-radius: 50%;\n",
              "      cursor: pointer;\n",
              "      display: none;\n",
              "      fill: #1967D2;\n",
              "      height: 32px;\n",
              "      padding: 0 0 0 0;\n",
              "      width: 32px;\n",
              "    }\n",
              "\n",
              "    .colab-df-convert:hover {\n",
              "      background-color: #E2EBFA;\n",
              "      box-shadow: 0px 1px 2px rgba(60, 64, 67, 0.3), 0px 1px 3px 1px rgba(60, 64, 67, 0.15);\n",
              "      fill: #174EA6;\n",
              "    }\n",
              "\n",
              "    [theme=dark] .colab-df-convert {\n",
              "      background-color: #3B4455;\n",
              "      fill: #D2E3FC;\n",
              "    }\n",
              "\n",
              "    [theme=dark] .colab-df-convert:hover {\n",
              "      background-color: #434B5C;\n",
              "      box-shadow: 0px 1px 3px 1px rgba(0, 0, 0, 0.15);\n",
              "      filter: drop-shadow(0px 1px 2px rgba(0, 0, 0, 0.3));\n",
              "      fill: #FFFFFF;\n",
              "    }\n",
              "  </style>\n",
              "\n",
              "      <script>\n",
              "        const buttonEl =\n",
              "          document.querySelector('#df-3adbc339-3802-4116-a6a4-5693ae1d15eb button.colab-df-convert');\n",
              "        buttonEl.style.display =\n",
              "          google.colab.kernel.accessAllowed ? 'block' : 'none';\n",
              "\n",
              "        async function convertToInteractive(key) {\n",
              "          const element = document.querySelector('#df-3adbc339-3802-4116-a6a4-5693ae1d15eb');\n",
              "          const dataTable =\n",
              "            await google.colab.kernel.invokeFunction('convertToInteractive',\n",
              "                                                     [key], {});\n",
              "          if (!dataTable) return;\n",
              "\n",
              "          const docLinkHtml = 'Like what you see? Visit the ' +\n",
              "            '<a target=\"_blank\" href=https://colab.research.google.com/notebooks/data_table.ipynb>data table notebook</a>'\n",
              "            + ' to learn more about interactive tables.';\n",
              "          element.innerHTML = '';\n",
              "          dataTable['output_type'] = 'display_data';\n",
              "          await google.colab.output.renderOutput(dataTable, element);\n",
              "          const docLink = document.createElement('div');\n",
              "          docLink.innerHTML = docLinkHtml;\n",
              "          element.appendChild(docLink);\n",
              "        }\n",
              "      </script>\n",
              "    </div>\n",
              "  </div>\n",
              "  "
            ]
          },
          "metadata": {},
          "execution_count": 114
        }
      ],
      "source": [
        "main"
      ]
    },
    {
      "cell_type": "markdown",
      "id": "c6769e33",
      "metadata": {
        "id": "c6769e33"
      },
      "source": [
        "# 5 Null Management"
      ]
    },
    {
      "cell_type": "code",
      "execution_count": 115,
      "id": "e0a85e4a",
      "metadata": {
        "id": "e0a85e4a"
      },
      "outputs": [],
      "source": [
        "cols_binary = ['FLAG_OWN_CAR', 'FLAG_OWN_REALTY']"
      ]
    },
    {
      "cell_type": "code",
      "execution_count": 116,
      "id": "b1912bde",
      "metadata": {
        "id": "b1912bde"
      },
      "outputs": [],
      "source": [
        "main[cols_binary] = main[cols_binary].replace(['Y', 'N'], [1, 0])\n",
        "main = main.drop(['DAYS_BIRTH_CLEAN'], axis = 1)\n",
        "\n",
        "cols = main.columns\n",
        "\n",
        "simple_imputer = SimpleImputer(strategy='median').fit(main)\n",
        "main = simple_imputer.transform(main)"
      ]
    },
    {
      "cell_type": "markdown",
      "id": "9a100900",
      "metadata": {
        "id": "9a100900"
      },
      "source": [
        "# 6. Model"
      ]
    },
    {
      "cell_type": "code",
      "execution_count": 117,
      "id": "87d759ff",
      "metadata": {
        "id": "87d759ff"
      },
      "outputs": [],
      "source": [
        "main = pd.DataFrame(main, columns=cols)"
      ]
    },
    {
      "cell_type": "code",
      "execution_count": 118,
      "id": "800b45e8",
      "metadata": {
        "id": "800b45e8"
      },
      "outputs": [],
      "source": [
        "X = main.drop(['Frac'], axis=1)\n",
        "y = main['Frac']"
      ]
    },
    {
      "cell_type": "code",
      "execution_count": 119,
      "id": "52b978f8",
      "metadata": {
        "id": "52b978f8"
      },
      "outputs": [],
      "source": [
        "X_train, X_test, y_train, y_test = train_test_split(X, y, test_size=0.3, random_state=42)"
      ]
    },
    {
      "cell_type": "markdown",
      "id": "4fa0652a",
      "metadata": {
        "id": "4fa0652a"
      },
      "source": [
        "## 6.1 Pipeline"
      ]
    },
    {
      "cell_type": "code",
      "execution_count": 120,
      "id": "0b25e271",
      "metadata": {
        "colab": {
          "base_uri": "https://localhost:8080/"
        },
        "id": "0b25e271",
        "outputId": "2c9b6d62-2d5a-463b-ebd2-a97beabdd701"
      },
      "outputs": [
        {
          "output_type": "stream",
          "name": "stdout",
          "text": [
            "LGBM precision: 0.000\n",
            "LGBM validation precision: 0.000\n"
          ]
        }
      ],
      "source": [
        "# Define the list of models to be trained\n",
        "models = [\n",
        "    ('LGBM', LGBMClassifier()),\n",
        "    ('RandomForest', RandomForestClassifier())]\n",
        "models = [\n",
        "    ('LGBM', LGBMClassifier())]\n",
        "\n",
        "# Define the grid of hyperparameters to be searched for each model -> Hyperparameter tuning with Cross Validation\n",
        "param_grid = [\n",
        "    {\n",
        "        'max_depth': [10],\n",
        "        'min_child_weight': [4],\n",
        "        'n_estimators': [300],\n",
        "        'learning_rate': [0.001]\n",
        "    },\n",
        "    {\n",
        "        'n_estimators': [300],\n",
        "        'max_features': ['auto'],\n",
        "        'max_depth': [6],\n",
        "    },\n",
        "]\n",
        "param_grid = [\n",
        "    {\n",
        "        'max_depth': [10],\n",
        "        'min_child_weight': [4],\n",
        "        'n_estimators': [300],\n",
        "        'learning_rate': [0.001]\n",
        "    }\n",
        "]\n",
        "\n",
        "best_precision = 0\n",
        "best_model = None\n",
        "precisions = {}\n",
        "\n",
        "\n",
        "# Train the models and evaluate their precision\n",
        "for (name, model), grid in zip(models, param_grid):\n",
        "    clf = GridSearchCV(model, grid, scoring='precision')\n",
        "    clf.fit(X_train, y_train)\n",
        "    precision = clf.best_score_\n",
        "    print(f\"{name} precision: {precision:.3f}\")\n",
        "    precisions[name] = precision\n",
        "    # Evaluate the precision on the validation set\n",
        "    precision_val = clf.score(X_test, y_test)\n",
        "    print(f\"{name} validation precision: {precision_val:.3f}\")\n",
        "    # Update the best model if it performs better on the validation set\n",
        "    if precision_val > best_precision:\n",
        "        best_precision = precision_val\n",
        "        best_model = clf"
      ]
    },
    {
      "cell_type": "code",
      "source": [
        "y_train.value_counts()"
      ],
      "metadata": {
        "colab": {
          "base_uri": "https://localhost:8080/"
        },
        "id": "8KvdeMV-lirU",
        "outputId": "3c2aac7e-9780-4f4d-a0d4-4444f4f00622"
      },
      "id": "8KvdeMV-lirU",
      "execution_count": 124,
      "outputs": [
        {
          "output_type": "execute_result",
          "data": {
            "text/plain": [
              "0.0    298496\n",
              "1.0      8640\n",
              "Name: Frac, dtype: int64"
            ]
          },
          "metadata": {},
          "execution_count": 124
        }
      ]
    },
    {
      "cell_type": "markdown",
      "source": [
        "Definimos una pipeline con gridsearchCV para hacer hyperparameter tunining, pero dado el tiempo limitado no hemos podido probar todos los modelos y combinacion de parametros que queríamos."
      ],
      "metadata": {
        "id": "E2VRM2HxlG46"
      },
      "id": "E2VRM2HxlG46"
    },
    {
      "cell_type": "code",
      "source": [
        "# These are the parameters for the best model with the best combination of hyperparameters\n",
        "print(best_model.best_params_)"
      ],
      "metadata": {
        "id": "KXHRSppDkWuq"
      },
      "id": "KXHRSppDkWuq",
      "execution_count": null,
      "outputs": []
    },
    {
      "cell_type": "code",
      "source": [
        "count_classes = pd.value_counts(main['Frac'], sort = True)\n",
        "count_classes.plot(kind = 'bar', rot=0, color=['green','red'])\n",
        "plt.title(\"Frecuencia por numero de observaciones\")\n",
        "plt.xlabel(\"Clases: Ocurrencia de Incendios\")\n",
        "plt.ylabel(\"Numbero de Observaciones\")\n",
        "print(count_classes)"
      ],
      "metadata": {
        "colab": {
          "base_uri": "https://localhost:8080/",
          "height": 350
        },
        "id": "jhNixqfFmXRL",
        "outputId": "65ef1deb-c532-4251-96f1-0b310ebc8947"
      },
      "id": "jhNixqfFmXRL",
      "execution_count": 127,
      "outputs": [
        {
          "output_type": "stream",
          "name": "stdout",
          "text": [
            "0.0    426472\n",
            "1.0     12295\n",
            "Name: Frac, dtype: int64\n"
          ]
        },
        {
          "output_type": "display_data",
          "data": {
            "text/plain": [
              "<Figure size 432x288 with 1 Axes>"
            ],
            "image/png": "[encoded data removed]"
          },
          "metadata": {
            "needs_background": "light"
          }
        }
      ]
    },
    {
      "cell_type": "code",
      "source": [
        "count_classes = pd.value_counts(y_smote, sort = True)\n",
        "count_classes.plot(kind = 'bar', rot=0, color=['green','red'])\n",
        "plt.title(\"Frecuencia por numero de observaciones\")\n",
        "plt.xlabel(\"Clases: Ocurrencia de Incendios\")\n",
        "plt.ylabel(\"Numbero de Observaciones\")\n",
        "print(count_classes)"
      ],
      "metadata": {
        "colab": {
          "base_uri": "https://localhost:8080/",
          "height": 350
        },
        "id": "4LxiaAfc0stA",
        "outputId": "11175c66-705f-4667-bb81-175820589042"
      },
      "id": "4LxiaAfc0stA",
      "execution_count": 144,
      "outputs": [
        {
          "output_type": "stream",
          "name": "stdout",
          "text": [
            "0.0    298496\n",
            "1.0    298496\n",
            "Name: Frac, dtype: int64\n"
          ]
        },
        {
          "output_type": "display_data",
          "data": {
            "text/plain": [
              "<Figure size 432x288 with 1 Axes>"
            ],
            "image/png": "[encoded data removed]"
          },
          "metadata": {
            "needs_background": "light"
          }
        }
      ]
    },
    {
      "cell_type": "markdown",
      "id": "d4fc3c20",
      "metadata": {
        "id": "d4fc3c20"
      },
      "source": [
        "## 6.2 Model"
      ]
    },
    {
      "cell_type": "code",
      "source": [
        "model = LogisticRegression(C=1.0, penalty='l2', random_state=1,solver=\"newton-cg\", class_weight=\"balanced\").fit(X_train, y_train)"
      ],
      "metadata": {
        "id": "sm6s1BoYmlKG"
      },
      "id": "sm6s1BoYmlKG",
      "execution_count": 128,
      "outputs": []
    },
    {
      "cell_type": "code",
      "source": [
        "y_pred = model.predict(X_test)"
      ],
      "metadata": {
        "id": "WK2ZdKGbmvDQ"
      },
      "id": "WK2ZdKGbmvDQ",
      "execution_count": 131,
      "outputs": []
    },
    {
      "cell_type": "code",
      "source": [
        "print(accuracy_score(y_test, y_pred))"
      ],
      "metadata": {
        "colab": {
          "base_uri": "https://localhost:8080/"
        },
        "id": "em2jcisnm91E",
        "outputId": "7eabc2f0-90de-4284-fae5-0694939c42c4"
      },
      "id": "em2jcisnm91E",
      "execution_count": 134,
      "outputs": [
        {
          "output_type": "stream",
          "name": "stdout",
          "text": [
            "0.8126885004292302\n"
          ]
        }
      ]
    },
    {
      "cell_type": "code",
      "source": [
        "model_xgb = XGBClassifier(n_estimators= 500,\n",
        "                      learning_rate=0.0001,\n",
        "                      objective= 'binary:logistic',\n",
        "                      random_state=0,\n",
        "                      n_jobs=-1,\n",
        "                      max_depth=5, verbose=3)\n",
        "\n",
        "model_xgb.fit(X_train, y_train)\n",
        "y_pred = model_xgb.predict(X_test)"
      ],
      "metadata": {
        "colab": {
          "base_uri": "https://localhost:8080/"
        },
        "id": "zsaDP---nQD8",
        "outputId": "54310d92-aa56-4504-a125-3eb29ac6ceee"
      },
      "id": "zsaDP---nQD8",
      "execution_count": 135,
      "outputs": [
        {
          "output_type": "stream",
          "name": "stdout",
          "text": [
            "[13:58:01] WARNING: ../src/learner.cc:767: \n",
            "Parameters: { \"verbose\" } are not used.\n",
            "\n"
          ]
        }
      ]
    },
    {
      "cell_type": "code",
      "source": [
        "print(accuracy_score(y_test, y_pred))"
      ],
      "metadata": {
        "colab": {
          "base_uri": "https://localhost:8080/"
        },
        "id": "o__YNYMqna0E",
        "outputId": "0abd00d6-4e6b-4162-a17c-2a42138d88f1"
      },
      "id": "o__YNYMqna0E",
      "execution_count": 136,
      "outputs": [
        {
          "output_type": "stream",
          "name": "stdout",
          "text": [
            "0.9941882991088725\n"
          ]
        }
      ]
    },
    {
      "cell_type": "code",
      "source": [
        "cm = confusion_matrix(y_test, y_pred)\n",
        "plot_confusion_matrix(model_xgb, X_test, y_test, cmap = plt.cm.Blues)"
      ],
      "metadata": {
        "colab": {
          "base_uri": "https://localhost:8080/",
          "height": 297
        },
        "id": "AIcDQowXnfCa",
        "outputId": "b108ecc3-5816-4428-e859-0b54604e96bb"
      },
      "id": "AIcDQowXnfCa",
      "execution_count": 137,
      "outputs": [
        {
          "output_type": "execute_result",
          "data": {
            "text/plain": [
              "<sklearn.metrics._plot.confusion_matrix.ConfusionMatrixDisplay at 0x7f7b1e3f8f70>"
            ]
          },
          "metadata": {},
          "execution_count": 137
        },
        {
          "output_type": "display_data",
          "data": {
            "text/plain": [
              "<Figure size 432x288 with 2 Axes>"
            ],
            "image/png": "[encoded data removed]"
          },
          "metadata": {
            "needs_background": "light"
          }
        }
      ]
    },
    {
      "cell_type": "code",
      "source": [
        "print(f'Conjunto de datos de validación')\n",
        "print(f'  Exactitud:     { accuracy_score(y_test, y_pred) :0.5f}')\n",
        "print(f'  Precisión:     { precision_score(y_test, y_pred, average = \"macro\") :0.5f}')\n",
        "print(f'  Exhaustividad: { recall_score(y_test, y_pred, average = \"macro\") :0.5f}')\n",
        "print(classification_report(y_test, y_pred))"
      ],
      "metadata": {
        "colab": {
          "base_uri": "https://localhost:8080/"
        },
        "id": "1zBycGOOnlnD",
        "outputId": "d87e0064-5b45-472b-e38d-f614a6839a30"
      },
      "id": "1zBycGOOnlnD",
      "execution_count": 138,
      "outputs": [
        {
          "output_type": "stream",
          "name": "stdout",
          "text": [
            "Conjunto de datos de validación\n",
            "  Exactitud:     0.99419\n",
            "  Precisión:     0.99703\n",
            "  Exhaustividad: 0.89535\n",
            "              precision    recall  f1-score   support\n",
            "\n",
            "         0.0       0.99      1.00      1.00    127976\n",
            "         1.0       1.00      0.79      0.88      3655\n",
            "\n",
            "    accuracy                           0.99    131631\n",
            "   macro avg       1.00      0.90      0.94    131631\n",
            "weighted avg       0.99      0.99      0.99    131631\n",
            "\n"
          ]
        }
      ]
    },
    {
      "cell_type": "markdown",
      "source": [
        "We attempt a smote"
      ],
      "metadata": {
        "id": "Ca8dUHA6n0JS"
      },
      "id": "Ca8dUHA6n0JS"
    },
    {
      "cell_type": "code",
      "source": [
        "from imblearn.over_sampling import SMOTE\n",
        "X_smote , y_smote = SMOTE().fit_resample(X_train, y_train)\n",
        "print(\"Before OverSampling, counts of label '1': {}\".format(sum(y_train == 1)))\n",
        "print(\"Before OverSampling, counts of label '0': {} \\n\".format(sum(y_train == 0)))\n",
        "print('After OverSampling, the shape of train_X: {}'.format(X_smote.shape))\n",
        "print('After OverSampling, the shape of train_y: {} \\n'.format(y_smote.shape))\n",
        "print(\"After OverSampling, counts of label '1': {}\".format(sum(y_smote == 1)))\n",
        "print(\"After OverSampling, counts of label '0': {}\".format(sum(y_smote == 0)))"
      ],
      "metadata": {
        "colab": {
          "base_uri": "https://localhost:8080/"
        },
        "id": "fiM7VC74nsDz",
        "outputId": "4b2b31c5-5f01-4254-b5aa-7b239f28e4c7"
      },
      "id": "fiM7VC74nsDz",
      "execution_count": 139,
      "outputs": [
        {
          "output_type": "stream",
          "name": "stdout",
          "text": [
            "Before OverSampling, counts of label '1': 8640\n",
            "Before OverSampling, counts of label '0': 298496 \n",
            "\n",
            "After OverSampling, the shape of train_X: (596992, 8)\n",
            "After OverSampling, the shape of train_y: (596992,) \n",
            "\n",
            "After OverSampling, counts of label '1': 298496\n",
            "After OverSampling, counts of label '0': 298496\n"
          ]
        }
      ]
    },
    {
      "cell_type": "code",
      "source": [
        "model_xgb = XGBClassifier(n_estimators= 500,\n",
        "                      learning_rate=0.0001,\n",
        "                      objective= 'binary:logistic',\n",
        "                      random_state=0,\n",
        "                      n_jobs=-1,\n",
        "                      max_depth=5, verbose=3)\n",
        "\n",
        "model_xgb.fit(X_smote, y_smote)\n",
        "y_pred = model_xgb.predict(X_test)"
      ],
      "metadata": {
        "colab": {
          "base_uri": "https://localhost:8080/"
        },
        "outputId": "3ecfefed-edfa-42e6-b5fe-0e253ad39248",
        "id": "EGdN9vanoC78"
      },
      "execution_count": 140,
      "outputs": [
        {
          "output_type": "stream",
          "name": "stdout",
          "text": [
            "[14:01:07] WARNING: ../src/learner.cc:767: \n",
            "Parameters: { \"verbose\" } are not used.\n",
            "\n"
          ]
        }
      ],
      "id": "EGdN9vanoC78"
    },
    {
      "cell_type": "code",
      "source": [
        "cm = confusion_matrix(y_test, y_pred)\n",
        "plot_confusion_matrix(model_xgb, x_smote, y_smote, cmap = plt.cm.Blues)"
      ],
      "metadata": {
        "colab": {
          "base_uri": "https://localhost:8080/",
          "height": 297
        },
        "id": "41oyCWEsoJwp",
        "outputId": "56d3e1cb-23fe-402d-a2c7-d94ef2652c28"
      },
      "id": "41oyCWEsoJwp",
      "execution_count": 141,
      "outputs": [
        {
          "output_type": "execute_result",
          "data": {
            "text/plain": [
              "<sklearn.metrics._plot.confusion_matrix.ConfusionMatrixDisplay at 0x7f7b1cb92a00>"
            ]
          },
          "metadata": {},
          "execution_count": 141
        },
        {
          "output_type": "display_data",
          "data": {
            "text/plain": [
              "<Figure size 432x288 with 2 Axes>"
            ],
            "image/png": "[encoded data removed]"
          },
          "metadata": {
            "needs_background": "light"
          }
        }
      ]
    },
    {
      "cell_type": "code",
      "source": [
        "print(f'Conjunto de datos de validación')\n",
        "print(f'  Exactitud:     { accuracy_score(y_test, y_pred) :0.5f}')\n",
        "print(f'  Precisión:     { precision_score(y_test, y_pred, average = \"macro\") :0.5f}')\n",
        "print(f'  Exhaustividad: { recall_score(y_test, y_pred, average = \"macro\") :0.5f}')\n",
        "print(classification_report(y_test, y_pred))"
      ],
      "metadata": {
        "colab": {
          "base_uri": "https://localhost:8080/"
        },
        "id": "aewm0rW6oMDY",
        "outputId": "c5601a87-b85a-4e57-cf0c-1923783534d3"
      },
      "id": "aewm0rW6oMDY",
      "execution_count": 142,
      "outputs": [
        {
          "output_type": "stream",
          "name": "stdout",
          "text": [
            "Conjunto de datos de validación\n",
            "  Exactitud:     0.99243\n",
            "  Precisión:     0.91591\n",
            "  Exhaustividad: 0.95119\n",
            "              precision    recall  f1-score   support\n",
            "\n",
            "         0.0       1.00      0.99      1.00    127976\n",
            "         1.0       0.83      0.91      0.87      3655\n",
            "\n",
            "    accuracy                           0.99    131631\n",
            "   macro avg       0.92      0.95      0.93    131631\n",
            "weighted avg       0.99      0.99      0.99    131631\n",
            "\n"
          ]
        }
      ]
    }
  ],
  "metadata": {
    "kernelspec": {
      "display_name": "Python 3 (ipykernel)",
      "language": "python",
      "name": "python3"
    },
    "language_info": {
      "codemirror_mode": {
        "name": "ipython",
        "version": 3
      },
      "file_extension": ".py",
      "mimetype": "text/x-python",
      "name": "python",
      "nbconvert_exporter": "python",
      "pygments_lexer": "ipython3",
      "version": "3.9.13"
    },
    "colab": {
      "provenance": []
    }
  },
  "nbformat": 4,
  "nbformat_minor": 5
}